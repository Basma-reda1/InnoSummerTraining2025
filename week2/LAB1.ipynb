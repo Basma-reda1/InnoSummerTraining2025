{
 "cells": [
  {
   "cell_type": "code",
   "execution_count": 3,
   "id": "7963e6fa-bd87-4a3a-8666-6dcfc0fe28a7",
   "metadata": {},
   "outputs": [
    {
     "name": "stdin",
     "output_type": "stream",
     "text": [
      "Enter the radius of the circle:  2\n"
     ]
    },
    {
     "name": "stdout",
     "output_type": "stream",
     "text": [
      "The area of the circle with radius 2.0 is: 12.57\n"
     ]
    }
   ],
   "source": [
    "import math\n",
    "radius = float(input(\"Enter the radius of the circle: \"))\n",
    "area = math.pi * radius ** 2\n",
    "print(f\"The area of the circle with radius {radius} is: {area:.2f}\")"
   ]
  },
  {
   "cell_type": "code",
   "execution_count": 2,
   "id": "f9e94026-4fd8-4e94-aceb-3ce1a0117604",
   "metadata": {},
   "outputs": [
    {
     "name": "stdin",
     "output_type": "stream",
     "text": [
      "Enter a number:  3\n"
     ]
    },
    {
     "name": "stdout",
     "output_type": "stream",
     "text": [
      "The number 3 is Odd.\n"
     ]
    }
   ],
   "source": [
    "num = int(input(\"Enter a number: \"))\n",
    "if num % 2 == 0:\n",
    "    print(f\"The number {num} is Even.\")\n",
    "else:\n",
    "    print(f\"The number {num} is Odd.\")\n"
   ]
  },
  {
   "cell_type": "code",
   "execution_count": 4,
   "id": "210158bf-aafb-483e-8ad9-a73209d4645a",
   "metadata": {},
   "outputs": [
    {
     "name": "stdin",
     "output_type": "stream",
     "text": [
      "Enter first integer:  2\n",
      "Enter second integer:  4\n",
      "Enter third integer:  7\n"
     ]
    },
    {
     "name": "stdout",
     "output_type": "stream",
     "text": [
      "The result is: 13\n"
     ]
    }
   ],
   "source": [
    "a = int(input(\"Enter first integer: \"))\n",
    "b = int(input(\"Enter second integer: \"))\n",
    "c = int(input(\"Enter third integer: \"))\n",
    "\n",
    "if a == b or b == c or a == c:\n",
    "    total = 0\n",
    "else:\n",
    "    total = a + b + c\n",
    "\n",
    "print(f\"The result is: {total}\")"
   ]
  },
  {
   "cell_type": "code",
   "execution_count": 5,
   "id": "0045c60a-0eb6-484a-b2a1-4c1339eae340",
   "metadata": {},
   "outputs": [
    {
     "name": "stdin",
     "output_type": "stream",
     "text": [
      "Enter the number of natural numbers:  7\n"
     ]
    },
    {
     "name": "stdout",
     "output_type": "stream",
     "text": [
      "1 = 1\n",
      "1 + 2 = 3\n",
      "1 + 2 + 3 = 6\n",
      "1 + 2 + 3 + 4 = 10\n",
      "1 + 2 + 3 + 4 + 5 = 15\n",
      "1 + 2 + 3 + 4 + 5 + 6 = 21\n",
      "1 + 2 + 3 + 4 + 5 + 6 + 7 = 28\n"
     ]
    }
   ],
   "source": [
    "n = int(input(\"Enter the number of natural numbers: \"))\n",
    "\n",
    "for i in range(1, n + 1):\n",
    "    expression = \" + \".join(str(j) for j in range(1, i + 1))\n",
    "    total = sum(range(1, i + 1))\n",
    "    print(f\"{expression} = {total}\")\n"
   ]
  },
  {
   "cell_type": "code",
   "execution_count": 6,
   "id": "8a654cc2-8bc2-4e06-8e6e-d6a29133058b",
   "metadata": {},
   "outputs": [
    {
     "name": "stdin",
     "output_type": "stream",
     "text": [
      "Enter a number:  2\n"
     ]
    },
    {
     "name": "stdout",
     "output_type": "stream",
     "text": [
      "2 is a prime number.\n"
     ]
    }
   ],
   "source": [
    "num = int(input(\"Enter a number: \"))\n",
    "\n",
    "if num > 1:\n",
    "    for i in range(2, int(num ** 0.5) + 1):\n",
    "        if num % i == 0:\n",
    "            print(f\"{num} is not a prime number.\")\n",
    "            break\n",
    "    else:\n",
    "        print(f\"{num} is a prime number.\")\n",
    "else:\n",
    "    print(f\"{num} is not a prime number.\")\n"
   ]
  },
  {
   "cell_type": "code",
   "execution_count": 7,
   "id": "e1f2c32f-4825-4269-bc85-a4d5a5f4ced0",
   "metadata": {},
   "outputs": [
    {
     "name": "stdout",
     "output_type": "stream",
     "text": [
      "First 16 powers of 2:\n",
      "2^0 = 1\n",
      "2^1 = 2\n",
      "2^2 = 4\n",
      "2^3 = 8\n",
      "2^4 = 16\n",
      "2^5 = 32\n",
      "2^6 = 64\n",
      "2^7 = 128\n",
      "2^8 = 256\n",
      "2^9 = 512\n",
      "2^10 = 1024\n",
      "2^11 = 2048\n",
      "2^12 = 4096\n",
      "2^13 = 8192\n",
      "2^14 = 16384\n",
      "2^15 = 32768\n"
     ]
    }
   ],
   "source": [
    "print(\"First 16 powers of 2:\")\n",
    "\n",
    "for i in range(16):\n",
    "    power = 2 ** i\n",
    "    print(f\"2^{i} = {power}\")\n"
   ]
  },
  {
   "cell_type": "code",
   "execution_count": 9,
   "id": "930d7777-e6eb-477e-beb5-195174522dab",
   "metadata": {},
   "outputs": [
    {
     "name": "stdin",
     "output_type": "stream",
     "text": [
      "Enter the value of n:  20\n"
     ]
    },
    {
     "name": "stdout",
     "output_type": "stream",
     "text": [
      "Even numbers from 1 to 20:\n",
      "2 4 6 8 10 12 14 16 18 20 "
     ]
    }
   ],
   "source": [
    "n = int(input(\"Enter the value of n: \"))\n",
    "\n",
    "print(f\"Even numbers from 1 to {n}:\")\n",
    "\n",
    "for i in range(2, n + 1, 2):\n",
    "    print(i, end=\" \")\n"
   ]
  },
  {
   "cell_type": "code",
   "execution_count": 10,
   "id": "05e89208-74a2-4fc9-96f1-d02a67bce3ce",
   "metadata": {},
   "outputs": [
    {
     "name": "stdin",
     "output_type": "stream",
     "text": [
      "Enter the start of range:  1\n",
      "Enter the end of range:  31\n"
     ]
    },
    {
     "name": "stdout",
     "output_type": "stream",
     "text": [
      "Even numbers from 1 to 31:\n",
      "2 4 6 8 10 12 14 16 18 20 22 24 26 28 30 "
     ]
    }
   ],
   "source": [
    "start = int(input(\"Enter the start of range: \"))\n",
    "end = int(input(\"Enter the end of range: \"))\n",
    "\n",
    "print(f\"Even numbers from {start} to {end}:\")\n",
    "\n",
    "for i in range(start, end + 1):\n",
    "    if i % 2 == 0:\n",
    "        print(i, end=\" \")\n"
   ]
  },
  {
   "cell_type": "code",
   "execution_count": null,
   "id": "2f656e00-6c80-4a73-967c-d4627c8fac2f",
   "metadata": {},
   "outputs": [],
   "source": []
  }
 ],
 "metadata": {
  "kernelspec": {
   "display_name": "Python [conda env:base] *",
   "language": "python",
   "name": "conda-base-py"
  },
  "language_info": {
   "codemirror_mode": {
    "name": "ipython",
    "version": 3
   },
   "file_extension": ".py",
   "mimetype": "text/x-python",
   "name": "python",
   "nbconvert_exporter": "python",
   "pygments_lexer": "ipython3",
   "version": "3.12.7"
  }
 },
 "nbformat": 4,
 "nbformat_minor": 5
}
