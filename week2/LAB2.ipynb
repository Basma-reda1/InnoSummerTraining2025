{
 "cells": [
  {
   "cell_type": "code",
   "execution_count": 1,
   "id": "760404e7-ab7c-49bb-99db-fe555415532d",
   "metadata": {},
   "outputs": [
    {
     "name": "stdin",
     "output_type": "stream",
     "text": [
      "Enter length in inches:  54\n"
     ]
    },
    {
     "name": "stdout",
     "output_type": "stream",
     "text": [
      "Length in centimeters: 137.16 cm\n"
     ]
    }
   ],
   "source": [
    "inches = float(input(\"Enter length in inches: \"))\n",
    "\n",
    "cm = inches * 2.54\n",
    "\n",
    "print(\"Length in centimeters: {:.2f} cm\".format(cm))"
   ]
  },
  {
   "cell_type": "code",
   "execution_count": 2,
   "id": "669fa88f-011c-4a88-aa20-caf1105a4cdd",
   "metadata": {},
   "outputs": [
    {
     "name": "stdin",
     "output_type": "stream",
     "text": [
      "Enter temperature in Celsius:  30\n"
     ]
    },
    {
     "name": "stdout",
     "output_type": "stream",
     "text": [
      "Temperature in Fahrenheit: 86.00°F\n"
     ]
    }
   ],
   "source": [
    "celsius = float(input(\"Enter temperature in Celsius: \"))\n",
    "\n",
    "fahrenheit = (celsius * 9/5) + 32\n",
    "\n",
    "print(\"Temperature in Fahrenheit: {:.2f}°F\".format(fahrenheit))"
   ]
  },
  {
   "cell_type": "code",
   "execution_count": 3,
   "id": "14e09902-1f21-4f04-bd82-55979465eb08",
   "metadata": {},
   "outputs": [
    {
     "name": "stdin",
     "output_type": "stream",
     "text": [
      "Enter the radius of the sphere:  4\n",
      "Enter the unit (e.g., cm, m, in):  cm\n"
     ]
    },
    {
     "name": "stdout",
     "output_type": "stream",
     "text": [
      "Volume of the sphere: 268.08 cm³\n"
     ]
    }
   ],
   "source": [
    "import math\n",
    "\n",
    "radius = float(input(\"Enter the radius of the sphere: \"))\n",
    "\n",
    "unit = input(\"Enter the unit (e.g., cm, m, in): \").strip()\n",
    "\n",
    "volume = (4/3) * math.pi * radius ** 3\n",
    "\n",
    "print(\"Volume of the sphere: {:.2f} {}³\".format(volume, unit))"
   ]
  },
  {
   "cell_type": "code",
   "execution_count": 5,
   "id": "d0573ecd-e05a-41f8-848f-7e7b9d281fdc",
   "metadata": {},
   "outputs": [
    {
     "name": "stdin",
     "output_type": "stream",
     "text": [
      "Enter the employee's basic salary:  40000\n"
     ]
    },
    {
     "name": "stdout",
     "output_type": "stream",
     "text": [
      "\n",
      "--- Pay Summary ---\n",
      "Gross Pay: 40000.00\n",
      "Tax Deducted (20%): 8000.00\n",
      "Net Pay: 32000.00\n"
     ]
    }
   ],
   "source": [
    "basic_salary = float(input(\"Enter the employee's basic salary: \"))\n",
    "\n",
    "gross_pay = basic_salary  \n",
    "\n",
    "tax = gross_pay * 0.20\n",
    "\n",
    "net_pay = gross_pay - tax\n",
    "\n",
    "print(\"\\n--- Pay Summary ---\")\n",
    "print(\"Gross Pay: {:.2f}\".format(gross_pay))\n",
    "print(\"Tax Deducted (20%): {:.2f}\".format(tax))\n",
    "print(\"Net Pay: {:.2f}\".format(net_pay))\n"
   ]
  },
  {
   "cell_type": "code",
   "execution_count": 6,
   "id": "40fec7bb-e212-421a-9002-c1c1b23a2187",
   "metadata": {},
   "outputs": [
    {
     "name": "stdout",
     "output_type": "stream",
     "text": [
      "1\n",
      "2\n",
      "3\n",
      "4\n",
      "5\n",
      "6\n",
      "7\n",
      "8\n",
      "9\n",
      "10\n"
     ]
    }
   ],
   "source": [
    "for i in range(1, 11):\n",
    "    print(i)\n"
   ]
  },
  {
   "cell_type": "code",
   "execution_count": 7,
   "id": "2ae3e343-cb87-462c-8c22-6fc96079f670",
   "metadata": {},
   "outputs": [
    {
     "name": "stdin",
     "output_type": "stream",
     "text": [
      "Enter a number (negative number to stop):  6\n"
     ]
    },
    {
     "name": "stdout",
     "output_type": "stream",
     "text": [
      "You entered: 6.0\n"
     ]
    },
    {
     "name": "stdin",
     "output_type": "stream",
     "text": [
      "Enter a number (negative number to stop):  -3\n"
     ]
    },
    {
     "name": "stdout",
     "output_type": "stream",
     "text": [
      "Negative number entered. Program stopped.\n"
     ]
    }
   ],
   "source": [
    "while True:\n",
    "    num = float(input(\"Enter a number (negative number to stop): \"))\n",
    "    \n",
    "    if num < 0:\n",
    "        print(\"Negative number entered. Program stopped.\")\n",
    "        break\n",
    "    else:\n",
    "        print(f\"You entered: {num}\")\n"
   ]
  },
  {
   "cell_type": "code",
   "execution_count": 8,
   "id": "03ee8c77-23c1-4493-89e6-66764f70113b",
   "metadata": {},
   "outputs": [
    {
     "name": "stdin",
     "output_type": "stream",
     "text": [
      "Enter an integer:  17\n"
     ]
    },
    {
     "name": "stdout",
     "output_type": "stream",
     "text": [
      "Range 2: 11 to 20\n"
     ]
    }
   ],
   "source": [
    "num = int(input(\"Enter an integer: \"))\n",
    "\n",
    "if 0 <= num <= 10:\n",
    "    print(\"Range 1: 0 to 10\")\n",
    "elif 11 <= num <= 20:\n",
    "    print(\"Range 2: 11 to 20\")\n",
    "elif 21 <= num <= 30:\n",
    "    print(\"Range 3: 21 to 30\")\n",
    "elif 31 <= num <= 40:\n",
    "    print(\"Range 4: 31 to 40\")\n",
    "else:\n",
    "    print(\"The number is outside the specified ranges.\")\n"
   ]
  },
  {
   "cell_type": "code",
   "execution_count": 9,
   "id": "04a0ce65-a759-43ba-8602-6f21f45419c8",
   "metadata": {},
   "outputs": [
    {
     "name": "stdin",
     "output_type": "stream",
     "text": [
      "Enter a string to reverse:  basma\n"
     ]
    },
    {
     "name": "stdout",
     "output_type": "stream",
     "text": [
      "Reversed string: amsab\n"
     ]
    }
   ],
   "source": [
    "input_str = input(\"Enter a string to reverse: \")\n",
    "\n",
    "reversed_str = input_str[::-1]\n",
    "\n",
    "print(\"Reversed string:\", reversed_str)"
   ]
  },
  {
   "cell_type": "code",
   "execution_count": 10,
   "id": "03abe29a-b77f-43d2-b222-b628c133f716",
   "metadata": {},
   "outputs": [
    {
     "name": "stdout",
     "output_type": "stream",
     "text": [
      "No. of Upper case characters: 3\n",
      "No. of Lower case characters: 12\n"
     ]
    }
   ],
   "source": [
    "def count_case_letters(s):\n",
    "    upper_count = 0\n",
    "    lower_count = 0\n",
    "\n",
    "    for char in s:\n",
    "        if char.isupper():\n",
    "            upper_count += 1\n",
    "        elif char.islower():\n",
    "            lower_count += 1\n",
    "\n",
    "    print(\"No. of Upper case characters:\", upper_count)\n",
    "    print(\"No. of Lower case characters:\", lower_count)\n",
    "\n",
    "sample_str = 'The quick Brow Fox'\n",
    "count_case_letters(sample_str)"
   ]
  },
  {
   "cell_type": "code",
   "execution_count": 11,
   "id": "4a811d89-3de6-4d76-a186-fe83e8be3c7a",
   "metadata": {},
   "outputs": [
    {
     "name": "stdin",
     "output_type": "stream",
     "text": [
      "Enter a string to check if it is a palindrome:  Nurses run\n"
     ]
    },
    {
     "name": "stdout",
     "output_type": "stream",
     "text": [
      "Yes, it is a palindrome.\n"
     ]
    }
   ],
   "source": [
    "def is_palindrome(s: str) -> bool:\n",
    "    s = s.replace(\" \", \"\").lower()\n",
    "    return s == s[::-1]\n",
    "\n",
    "input_str = input(\"Enter a string to check if it is a palindrome: \")\n",
    "if is_palindrome(input_str):\n",
    "    print(\"Yes, it is a palindrome.\")\n",
    "else:\n",
    "    print(\"No, it is not a palindrome.\")"
   ]
  },
  {
   "cell_type": "code",
   "execution_count": 13,
   "id": "e5698172-1cdc-4a09-b336-c9ca2e8f67c7",
   "metadata": {},
   "outputs": [
    {
     "name": "stdout",
     "output_type": "stream",
     "text": [
      "Unique List: [1, 2, 3, 4, 5]\n"
     ]
    }
   ],
   "source": [
    "def unique_list(lst):\n",
    "    return list(set(lst))\n",
    "\n",
    "sample_list = [1, 2, 3, 3, 3, 3, 4, 5]\n",
    "print(\"Unique List:\", unique_list(sample_list))"
   ]
  },
  {
   "cell_type": "code",
   "execution_count": 14,
   "id": "6a286f0f-0a77-45d0-8800-2cd35f80ea4b",
   "metadata": {},
   "outputs": [
    {
     "name": "stdout",
     "output_type": "stream",
     "text": [
      "Even numbers: [2, 4, 6, 8]\n"
     ]
    }
   ],
   "source": [
    "sample_list = [1, 2, 3, 4, 5, 6, 7, 8, 9]\n",
    "\n",
    "even_numbers = [num for num in sample_list if num % 2 == 0]\n",
    "\n",
    "print(\"Even numbers:\", even_numbers)"
   ]
  },
  {
   "cell_type": "code",
   "execution_count": 15,
   "id": "40aaec7b-392a-4e4d-981f-ccb19cfcb6f3",
   "metadata": {},
   "outputs": [
    {
     "name": "stdout",
     "output_type": "stream",
     "text": [
      "The 3th largest element is: 8\n"
     ]
    }
   ],
   "source": [
    "def kth_largest(lst, k):\n",
    "    sorted_list = sorted(lst, reverse=True)\n",
    "\n",
    "    if 1 <= k <= len(lst):\n",
    "        return sorted_list[k - 1]\n",
    "    else:\n",
    "        return None  \n",
    "\n",
    "sample_list = [10, 4, 6, 8, 2, 15, 3]\n",
    "k = 3\n",
    "result = kth_largest(sample_list, k)\n",
    "\n",
    "if result is not None:\n",
    "    print(f\"The {k}th largest element is: {result}\")\n",
    "else:\n",
    "    print(\"Invalid value of k\")\n"
   ]
  },
  {
   "cell_type": "code",
   "execution_count": 16,
   "id": "21f5640e-1adf-45f1-a5b8-78b9c5a8d48a",
   "metadata": {},
   "outputs": [
    {
     "name": "stdout",
     "output_type": "stream",
     "text": [
      "True\n",
      "False\n"
     ]
    }
   ],
   "source": [
    "def is_palindrome(lst):\n",
    "    return lst == lst[::-1]\n",
    "\n",
    "print(is_palindrome([1, 2, 3, 2, 1]))  \n",
    "print(is_palindrome([1, 2, 3, 4, 5]))  \n"
   ]
  },
  {
   "cell_type": "code",
   "execution_count": 17,
   "id": "b3278b74-ff1e-41f8-89ee-f11053ec908f",
   "metadata": {},
   "outputs": [
    {
     "name": "stdout",
     "output_type": "stream",
     "text": [
      "Full shopping list:\n",
      "['milk', 'bread', 'eggs', 'butter', 'cheese', 'tomatoes', 'onions', 'chicken', 'rice', 'apples']\n",
      "\n",
      "Item 2: bread\n",
      "Item 8: chicken\n"
     ]
    }
   ],
   "source": [
    "shopping_list = [\n",
    "    \"milk\",\n",
    "    \"bread\",\n",
    "    \"eggs\",\n",
    "    \"butter\",\n",
    "    \"cheese\",\n",
    "    \"tomatoes\",\n",
    "    \"onions\",\n",
    "    \"chicken\",\n",
    "    \"rice\",\n",
    "    \"apples\"\n",
    "]\n",
    "\n",
    "print(\"Full shopping list:\")\n",
    "print(shopping_list)\n",
    "\n",
    "print(\"\\nItem 2:\", shopping_list[1])  \n",
    "print(\"Item 8:\", shopping_list[7])    "
   ]
  },
  {
   "cell_type": "code",
   "execution_count": 18,
   "id": "d602550c-2d8a-4dee-80e6-73becbb5170f",
   "metadata": {},
   "outputs": [
    {
     "name": "stdout",
     "output_type": "stream",
     "text": [
      "Full shopping list:\n",
      "['milk', 'bread', 'eggs', 'butter', 'cheese', 'tomatoes', 'onions', 'chicken', 'rice', 'apples']\n",
      "\n",
      "Item 2: bread\n",
      "Item 8: chicken\n"
     ]
    },
    {
     "name": "stdin",
     "output_type": "stream",
     "text": [
      "\n",
      "Enter an item to insert into the shopping list:  chipsy\n",
      "Enter the position to insert the item (1 to 11), or press Enter to add at the end:  \n"
     ]
    },
    {
     "name": "stdout",
     "output_type": "stream",
     "text": [
      "\n",
      "Updated shopping list:\n",
      "['milk', 'bread', 'eggs', 'butter', 'cheese', 'tomatoes', 'onions', 'chicken', 'rice', 'apples', 'chipsy']\n"
     ]
    }
   ],
   "source": [
    "shopping_list = [\n",
    "    \"milk\",\n",
    "    \"bread\",\n",
    "    \"eggs\",\n",
    "    \"butter\",\n",
    "    \"cheese\",\n",
    "    \"tomatoes\",\n",
    "    \"onions\",\n",
    "    \"chicken\",\n",
    "    \"rice\",\n",
    "    \"apples\"\n",
    "]\n",
    "\n",
    "print(\"Full shopping list:\")\n",
    "print(shopping_list)\n",
    "\n",
    "print(\"\\nItem 2:\", shopping_list[1])  \n",
    "print(\"Item 8:\", shopping_list[7])    \n",
    "\n",
    "new_item = input(\"\\nEnter an item to insert into the shopping list: \")\n",
    "position = input(\"Enter the position to insert the item (1 to {}), or press Enter to add at the end: \".format(len(shopping_list) + 1))\n",
    "\n",
    "if position.isdigit():\n",
    "    pos = int(position)\n",
    "    if 1 <= pos <= len(shopping_list) + 1:\n",
    "        shopping_list.insert(pos - 1, new_item)\n",
    "    else:\n",
    "        print(\"Invalid position! Adding item to the end.\")\n",
    "        shopping_list.append(new_item)\n",
    "else:\n",
    "    shopping_list.append(new_item)\n",
    "\n",
    "print(\"\\nUpdated shopping list:\")\n",
    "print(shopping_list)"
   ]
  },
  {
   "cell_type": "code",
   "execution_count": 19,
   "id": "a6491e1f-dc7c-4bb9-8bdd-7bfd6b1edd77",
   "metadata": {},
   "outputs": [
    {
     "name": "stdout",
     "output_type": "stream",
     "text": [
      "Original dictionary:\n",
      "{'apple': 10, 'banana': 5, 'cherry': 20, 'date': 15}\n",
      "\n",
      "Sorted ascending by value:\n",
      "{'banana': 5, 'apple': 10, 'date': 15, 'cherry': 20}\n",
      "\n",
      "Sorted descending by value:\n",
      "{'cherry': 20, 'date': 15, 'apple': 10, 'banana': 5}\n"
     ]
    }
   ],
   "source": [
    "my_dict = {'apple': 10, 'banana': 5, 'cherry': 20, 'date': 15}\n",
    "\n",
    "sorted_asc = dict(sorted(my_dict.items(), key=lambda item: item[1]))\n",
    "\n",
    "sorted_desc = dict(sorted(my_dict.items(), key=lambda item: item[1], reverse=True))\n",
    "\n",
    "print(\"Original dictionary:\")\n",
    "print(my_dict)\n",
    "\n",
    "print(\"\\nSorted ascending by value:\")\n",
    "print(sorted_asc)\n",
    "\n",
    "print(\"\\nSorted descending by value:\")\n",
    "print(sorted_desc)"
   ]
  },
  {
   "cell_type": "code",
   "execution_count": 20,
   "id": "c69384f5-ae42-4a57-a78d-9204c89a6d66",
   "metadata": {},
   "outputs": [
    {
     "name": "stdin",
     "output_type": "stream",
     "text": [
      "Enter the key to check:  age\n"
     ]
    },
    {
     "name": "stdout",
     "output_type": "stream",
     "text": [
      "The key 'age' exists in the dictionary.\n"
     ]
    }
   ],
   "source": [
    "my_dict = {'name': 'Alice', 'age': 25, 'city': 'Cairo'}\n",
    "\n",
    "key_to_check = input(\"Enter the key to check: \")\n",
    "\n",
    "if key_to_check in my_dict:\n",
    "    print(f\"The key '{key_to_check}' exists in the dictionary.\")\n",
    "else:\n",
    "    print(f\"The key '{key_to_check}' does not exist in the dictionary.\")\n"
   ]
  },
  {
   "cell_type": "code",
   "execution_count": 21,
   "id": "9bcf5002-6b08-48b5-80ab-6bad5d38f2ef",
   "metadata": {},
   "outputs": [
    {
     "name": "stdout",
     "output_type": "stream",
     "text": [
      "Keys:\n",
      "name\n",
      "age\n",
      "city\n",
      "\n",
      "Values:\n",
      "Alice\n",
      "25\n",
      "Cairo\n",
      "\n",
      "Key-Value pairs:\n",
      "name: Alice\n",
      "age: 25\n",
      "city: Cairo\n"
     ]
    }
   ],
   "source": [
    "my_dict = {'name': 'Alice', 'age': 25, 'city': 'Cairo'}\n",
    "\n",
    "print(\"Keys:\")\n",
    "for key in my_dict:\n",
    "    print(key)\n",
    "\n",
    "print(\"\\nValues:\")\n",
    "for value in my_dict.values():\n",
    "    print(value)\n",
    "\n",
    "print(\"\\nKey-Value pairs:\")\n",
    "for key, value in my_dict.items():\n",
    "    print(f\"{key}: {value}\")\n"
   ]
  },
  {
   "cell_type": "code",
   "execution_count": 22,
   "id": "c6bbd072-99ad-4711-8b74-341cff0142b2",
   "metadata": {},
   "outputs": [
    {
     "name": "stdout",
     "output_type": "stream",
     "text": [
      "{1: 1, 2: 4, 3: 9, 4: 16, 5: 25, 6: 36, 7: 49, 8: 64, 9: 81, 10: 100}\n"
     ]
    }
   ],
   "source": [
    "start = 1\n",
    "end = 10\n",
    "\n",
    "squares_dict = {num: num**2 for num in range(start, end + 1)}\n",
    "\n",
    "print(squares_dict)"
   ]
  },
  {
   "cell_type": "code",
   "execution_count": 23,
   "id": "eab783ff-ecaf-4a37-b31e-bea5c64704de",
   "metadata": {},
   "outputs": [
    {
     "name": "stdout",
     "output_type": "stream",
     "text": [
      "Employee Number: 101\n",
      "  Name: Alice\n",
      "  Job: Engineer\n",
      "  Department: Development\n",
      "\n",
      "Employee Number: 102\n",
      "  Name: Bob\n",
      "  Job: Manager\n",
      "  Department: HR\n",
      "\n",
      "Employee Number: 103\n",
      "  Name: Charlie\n",
      "  Job: Analyst\n",
      "  Department: Finance\n",
      "\n"
     ]
    }
   ],
   "source": [
    "employees = {}\n",
    "\n",
    "def add_employee(emp_num, name, job, department):\n",
    "    employees[emp_num] = {\n",
    "        \"Name\": name,\n",
    "        \"Job\": job,\n",
    "        \"Department\": department\n",
    "    }\n",
    "\n",
    "add_employee(101, \"Alice\", \"Engineer\", \"Development\")\n",
    "add_employee(102, \"Bob\", \"Manager\", \"HR\")\n",
    "add_employee(103, \"Charlie\", \"Analyst\", \"Finance\")\n",
    "\n",
    "for emp_num, data in employees.items():\n",
    "    print(f\"Employee Number: {emp_num}\")\n",
    "    for key, value in data.items():\n",
    "        print(f\"  {key}: {value}\")\n",
    "    print()\n"
   ]
  },
  {
   "cell_type": "code",
   "execution_count": 24,
   "id": "08b7310b-ebc3-4984-bd83-51a380aa68fb",
   "metadata": {},
   "outputs": [
    {
     "name": "stdin",
     "output_type": "stream",
     "text": [
      "Enter a number:  5\n"
     ]
    },
    {
     "name": "stdout",
     "output_type": "stream",
     "text": [
      "The square of 5.0 is 25.0\n"
     ]
    }
   ],
   "source": [
    "def square_number(num):\n",
    "    return num ** 2\n",
    "\n",
    "number = float(input(\"Enter a number: \"))\n",
    "\n",
    "result = square_number(number)\n",
    "\n",
    "print(f\"The square of {number} is {result}\")"
   ]
  },
  {
   "cell_type": "code",
   "execution_count": 25,
   "id": "48a5430c-8537-4d5d-8c4e-a5c07c8d2286",
   "metadata": {},
   "outputs": [
    {
     "name": "stdin",
     "output_type": "stream",
     "text": [
      "Enter first number:  8\n",
      "Enter second number:  14\n"
     ]
    },
    {
     "name": "stdout",
     "output_type": "stream",
     "text": [
      "The largest number between 8.0 and 14.0 is 14.0\n"
     ]
    }
   ],
   "source": [
    "def largest_num(a, b):\n",
    "    if a > b:\n",
    "        return a\n",
    "    else:\n",
    "        return b\n",
    "\n",
    "num1 = float(input(\"Enter first number: \"))\n",
    "num2 = float(input(\"Enter second number: \"))\n",
    "\n",
    "result = largest_num(num1, num2)\n",
    "print(f\"The largest number between {num1} and {num2} is {result}\")"
   ]
  },
  {
   "cell_type": "code",
   "execution_count": 26,
   "id": "3f5e68de-cd68-44b1-8952-a4551a37ac0d",
   "metadata": {},
   "outputs": [
    {
     "name": "stdin",
     "output_type": "stream",
     "text": [
      "Enter the radius of the circle:  3\n"
     ]
    },
    {
     "name": "stdout",
     "output_type": "stream",
     "text": [
      "Area of the circle: 28.27\n",
      "Perimeter of the circle: 18.85\n"
     ]
    }
   ],
   "source": [
    "import math\n",
    "\n",
    "class Circle:\n",
    "    def __init__(self, radius):\n",
    "        self.radius = radius\n",
    "\n",
    "    def area(self):\n",
    "        return math.pi * (self.radius ** 2)\n",
    "\n",
    "    def perimeter(self):\n",
    "        return 2 * math.pi * self.radius\n",
    "\n",
    "radius = float(input(\"Enter the radius of the circle: \"))\n",
    "circle = Circle(radius)\n",
    "\n",
    "print(f\"Area of the circle: {circle.area():.2f}\")\n",
    "print(f\"Perimeter of the circle: {circle.perimeter():.2f}\")"
   ]
  },
  {
   "cell_type": "code",
   "execution_count": 28,
   "id": "2df96e1f-aa0c-430a-8bed-e7067203246c",
   "metadata": {},
   "outputs": [
    {
     "name": "stdin",
     "output_type": "stream",
     "text": [
      "Enter name:  basma\n",
      "Enter country:  egypt\n",
      "Enter date of birth (YYYY-MM-DD):  2004-10-09\n"
     ]
    },
    {
     "name": "stdout",
     "output_type": "stream",
     "text": [
      "basma from egypt is 20 years old.\n"
     ]
    }
   ],
   "source": [
    "from datetime import datetime\n",
    "\n",
    "class Person:\n",
    "    def __init__(self, name, country, date_of_birth):\n",
    "        self.name = name\n",
    "        self.country = country\n",
    "        self.date_of_birth = datetime.strptime(date_of_birth, \"%Y-%m-%d\")\n",
    "\n",
    "    def calculate_age(self):\n",
    "        today = datetime.today()\n",
    "        age = today.year - self.date_of_birth.year\n",
    "        if (today.month, today.day) < (self.date_of_birth.month, self.date_of_birth.day):\n",
    "            age -= 1\n",
    "        return age\n",
    "\n",
    "name = input(\"Enter name: \")\n",
    "country = input(\"Enter country: \")\n",
    "dob = input(\"Enter date of birth (YYYY-MM-DD): \")\n",
    "\n",
    "person = Person(name, country, dob)\n",
    "print(f\"{person.name} from {person.country} is {person.calculate_age()} years old.\")\n"
   ]
  },
  {
   "cell_type": "code",
   "execution_count": 29,
   "id": "362f3f20-8f7a-4e97-b596-6873314f87ed",
   "metadata": {},
   "outputs": [
    {
     "name": "stdin",
     "output_type": "stream",
     "text": [
      "Enter first number:  4\n",
      "Enter second number:  6\n"
     ]
    },
    {
     "name": "stdout",
     "output_type": "stream",
     "text": [
      "4.0 + 6.0 = 10.0\n",
      "4.0 - 6.0 = -2.0\n",
      "4.0 * 6.0 = 24.0\n",
      "4.0 / 6.0 = 0.6666666666666666\n"
     ]
    }
   ],
   "source": [
    "class Calculator:\n",
    "    def add(self, a, b):\n",
    "        return a + b\n",
    "\n",
    "    def subtract(self, a, b):\n",
    "        return a - b\n",
    "\n",
    "    def multiply(self, a, b):\n",
    "        return a * b\n",
    "\n",
    "    def divide(self, a, b):\n",
    "        if b == 0:\n",
    "            return \"Error: Division by zero!\"\n",
    "        return a / b\n",
    "\n",
    "calc = Calculator()\n",
    "\n",
    "num1 = float(input(\"Enter first number: \"))\n",
    "num2 = float(input(\"Enter second number: \"))\n",
    "\n",
    "print(f\"{num1} + {num2} = {calc.add(num1, num2)}\")\n",
    "print(f\"{num1} - {num2} = {calc.subtract(num1, num2)}\")\n",
    "print(f\"{num1} * {num2} = {calc.multiply(num1, num2)}\")\n",
    "print(f\"{num1} / {num2} = {calc.divide(num1, num2)}\")\n"
   ]
  },
  {
   "cell_type": "code",
   "execution_count": 30,
   "id": "e6201779-e0cd-4286-aed8-b07bd2fc95d8",
   "metadata": {},
   "outputs": [
    {
     "name": "stdout",
     "output_type": "stream",
     "text": [
      "Circle area: 78.54, perimeter: 31.42\n",
      "Square area: 16.00, perimeter: 16.00\n",
      "Triangle area: 6.00, perimeter: 12.00\n"
     ]
    }
   ],
   "source": [
    "import math\n",
    "from abc import ABC, abstractmethod\n",
    "\n",
    "class Shape(ABC):\n",
    "\n",
    "    @abstractmethod\n",
    "    def area(self):\n",
    "        pass\n",
    "\n",
    "    @abstractmethod\n",
    "    def perimeter(self):\n",
    "        pass\n",
    "\n",
    "class Circle(Shape):\n",
    "    def __init__(self, radius):\n",
    "        self.radius = radius\n",
    "\n",
    "    def area(self):\n",
    "        return math.pi * self.radius ** 2\n",
    "\n",
    "    def perimeter(self):\n",
    "        return 2 * math.pi * self.radius\n",
    "\n",
    "class Square(Shape):\n",
    "    def __init__(self, side):\n",
    "        self.side = side\n",
    "\n",
    "    def area(self):\n",
    "        return self.side ** 2\n",
    "\n",
    "    def perimeter(self):\n",
    "        return 4 * self.side\n",
    "\n",
    "class Triangle(Shape):\n",
    "    def __init__(self, a, b, c):\n",
    "        self.a = a\n",
    "        self.b = b\n",
    "        self.c = c\n",
    "\n",
    "    def perimeter(self):\n",
    "        return self.a + self.b + self.c\n",
    "\n",
    "    def area(self):\n",
    "        s = self.perimeter() / 2\n",
    "        return math.sqrt(s * (s - self.a) * (s - self.b) * (s - self.c))\n",
    "\n",
    "circle = Circle(5)\n",
    "square = Square(4)\n",
    "triangle = Triangle(3, 4, 5)\n",
    "\n",
    "print(f\"Circle area: {circle.area():.2f}, perimeter: {circle.perimeter():.2f}\")\n",
    "print(f\"Square area: {square.area():.2f}, perimeter: {square.perimeter():.2f}\")\n",
    "print(f\"Triangle area: {triangle.area():.2f}, perimeter: {triangle.perimeter():.2f}\")"
   ]
  },
  {
   "cell_type": "code",
   "execution_count": null,
   "id": "221b3356-8ffd-403c-a624-0a6c4df74407",
   "metadata": {},
   "outputs": [],
   "source": []
  }
 ],
 "metadata": {
  "kernelspec": {
   "display_name": "Python [conda env:base] *",
   "language": "python",
   "name": "conda-base-py"
  },
  "language_info": {
   "codemirror_mode": {
    "name": "ipython",
    "version": 3
   },
   "file_extension": ".py",
   "mimetype": "text/x-python",
   "name": "python",
   "nbconvert_exporter": "python",
   "pygments_lexer": "ipython3",
   "version": "3.12.7"
  }
 },
 "nbformat": 4,
 "nbformat_minor": 5
}
