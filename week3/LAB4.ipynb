{
 "cells": [
  {
   "cell_type": "code",
   "execution_count": 1,
   "id": "4f718455-1dd3-4a49-9ea7-b60012c3163a",
   "metadata": {},
   "outputs": [
    {
     "name": "stdout",
     "output_type": "stream",
     "text": [
      "NumPy Version: 1.26.4\n",
      "\n",
      "NumPy Build Configuration:\n",
      "Build Dependencies:\n",
      "  blas:\n",
      "    detection method: pkgconfig\n",
      "    found: true\n",
      "    include directory: C:/Users/NV_User/anaconda3/Library/include\n",
      "    lib directory: C:/Users/NV_User/anaconda3/Library/lib\n",
      "    name: mkl-sdl\n",
      "    openblas configuration: unknown\n",
      "    pc file directory: C:\\b\\abs_c1ywpu18ar\\croot\\numpy_and_numpy_base_1708638681471\\_h_env\\Library\\lib\\pkgconfig\n",
      "    version: '2023.1'\n",
      "  lapack:\n",
      "    detection method: internal\n",
      "    found: true\n",
      "    include directory: unknown\n",
      "    lib directory: unknown\n",
      "    name: dep1583119523984\n",
      "    openblas configuration: unknown\n",
      "    pc file directory: unknown\n",
      "    version: 1.26.4\n",
      "Compilers:\n",
      "  c:\n",
      "    commands: cl.exe\n",
      "    linker: link\n",
      "    name: msvc\n",
      "    version: 19.29.30154\n",
      "  c++:\n",
      "    commands: cl.exe\n",
      "    linker: link\n",
      "    name: msvc\n",
      "    version: 19.29.30154\n",
      "  cython:\n",
      "    commands: cython\n",
      "    linker: cython\n",
      "    name: cython\n",
      "    version: 3.0.8\n",
      "Machine Information:\n",
      "  build:\n",
      "    cpu: x86_64\n",
      "    endian: little\n",
      "    family: x86_64\n",
      "    system: windows\n",
      "  host:\n",
      "    cpu: x86_64\n",
      "    endian: little\n",
      "    family: x86_64\n",
      "    system: windows\n",
      "Python Information:\n",
      "  path: C:\\b\\abs_c1ywpu18ar\\croot\\numpy_and_numpy_base_1708638681471\\_h_env\\python.exe\n",
      "  version: '3.12'\n",
      "SIMD Extensions:\n",
      "  baseline:\n",
      "  - SSE\n",
      "  - SSE2\n",
      "  - SSE3\n",
      "  found:\n",
      "  - SSSE3\n",
      "  - SSE41\n",
      "  - POPCNT\n",
      "  - SSE42\n",
      "  - AVX\n",
      "  - F16C\n",
      "  - FMA3\n",
      "  - AVX2\n",
      "  not found:\n",
      "  - AVX512F\n",
      "  - AVX512CD\n",
      "  - AVX512_SKX\n",
      "  - AVX512_CLX\n",
      "  - AVX512_CNL\n",
      "  - AVX512_ICL\n",
      "\n"
     ]
    }
   ],
   "source": [
    "import numpy as np\n",
    "print(\"NumPy Version:\", np.__version__)\n",
    "print(\"\\nNumPy Build Configuration:\")\n",
    "np.show_config()"
   ]
  },
  {
   "cell_type": "code",
   "execution_count": 2,
   "id": "fc2ce556-dce4-40f1-b976-07c6e65b391d",
   "metadata": {},
   "outputs": [
    {
     "name": "stdout",
     "output_type": "stream",
     "text": [
      "Array: [1 2 3 4 5]\n",
      "None of the elements are zero: True\n"
     ]
    }
   ],
   "source": [
    "import numpy as np\n",
    "arr = np.array([1, 2, 3, 4, 5])\n",
    "result = np.all(arr != 0)\n",
    "print(\"Array:\", arr)\n",
    "print(\"None of the elements are zero:\", result)"
   ]
  },
  {
   "cell_type": "code",
   "execution_count": 3,
   "id": "4d004c76-fdfa-47eb-97e7-c102302fdeba",
   "metadata": {},
   "outputs": [
    {
     "name": "stdout",
     "output_type": "stream",
     "text": [
      "Array: [0 0 0 5 0]\n",
      "Any non-zero elements: True\n"
     ]
    }
   ],
   "source": [
    "import numpy as np\n",
    "arr = np.array([0, 0, 0, 5, 0])\n",
    "result = np.any(arr != 0)\n",
    "print(\"Array:\", arr)\n",
    "print(\"Any non-zero elements:\", result)"
   ]
  },
  {
   "cell_type": "code",
   "execution_count": 4,
   "id": "a1da397f-aa7a-4408-9597-70d4a340f7b6",
   "metadata": {},
   "outputs": [
    {
     "name": "stdout",
     "output_type": "stream",
     "text": [
      "Original Array: [ 1.   0.   nan  inf -inf  5.5]\n",
      "Finiteness Check: [ True  True False False False  True]\n"
     ]
    }
   ],
   "source": [
    "import numpy as np\n",
    "arr = np.array([1, 0, np.nan, np.inf, -np.inf, 5.5])\n",
    "result = np.isfinite(arr)\n",
    "print(\"Original Array:\", arr)\n",
    "print(\"Finiteness Check:\", result)"
   ]
  },
  {
   "cell_type": "code",
   "execution_count": 5,
   "id": "43da337b-0b5a-4a12-88ab-a896dfb95652",
   "metadata": {},
   "outputs": [
    {
     "name": "stdout",
     "output_type": "stream",
     "text": [
      "Original Array: [ 1.   inf -inf  nan  0.   5.5]\n",
      "Infinity Check (±inf): [False  True  True False False False]\n"
     ]
    }
   ],
   "source": [
    "import numpy as np\n",
    "arr = np.array([1.0, np.inf, -np.inf, np.nan, 0.0, 5.5])\n",
    "result = np.isinf(arr)\n",
    "print(\"Original Array:\", arr)\n",
    "print(\"Infinity Check (±inf):\", result)"
   ]
  },
  {
   "cell_type": "code",
   "execution_count": 6,
   "id": "23a801bb-dad5-4fe6-b382-56a40d9e3c3e",
   "metadata": {},
   "outputs": [
    {
     "name": "stdout",
     "output_type": "stream",
     "text": [
      "Original Array: [ nan   1.   0.  inf -inf  nan]\n",
      "NaN Check: [ True False False False False  True]\n"
     ]
    }
   ],
   "source": [
    "import numpy as np\n",
    "arr = np.array([np.nan, 1.0, 0.0, np.inf, -np.inf, np.nan])\n",
    "result = np.isnan(arr)\n",
    "print(\"Original Array:\", arr)\n",
    "print(\"NaN Check:\", result)"
   ]
  },
  {
   "cell_type": "code",
   "execution_count": 7,
   "id": "c50e87c1-f9de-4dad-a057-1f0165461a54",
   "metadata": {},
   "outputs": [
    {
     "name": "stdout",
     "output_type": "stream",
     "text": [
      "Array a: [3 5 2 7]\n",
      "Array b: [4 5 1 8]\n",
      "\n",
      "a > b : [False False  True False]\n",
      "a >= b: [False  True  True False]\n",
      "a < b : [ True False False  True]\n",
      "a <= b: [ True  True False  True]\n"
     ]
    }
   ],
   "source": [
    "import numpy as np\n",
    "\n",
    "a = np.array([3, 5, 2, 7])\n",
    "b = np.array([4, 5, 1, 8])\n",
    "\n",
    "greater = np.greater(a, b)\n",
    "greater_equal = np.greater_equal(a, b)\n",
    "less = np.less(a, b)\n",
    "less_equal = np.less_equal(a, b)\n",
    "\n",
    "print(\"Array a:\", a)\n",
    "print(\"Array b:\", b)\n",
    "print(\"\\na > b :\", greater)\n",
    "print(\"a >= b:\", greater_equal)\n",
    "print(\"a < b :\", less)\n",
    "print(\"a <= b:\", less_equal)"
   ]
  },
  {
   "cell_type": "code",
   "execution_count": 8,
   "id": "b7a383f8-61f4-4df7-ab60-cab9d167d8c2",
   "metadata": {},
   "outputs": [
    {
     "name": "stdout",
     "output_type": "stream",
     "text": [
      "Array a: [1.       2.       3.000001 4.      ]\n",
      "Array b: [1. 2. 3. 5.]\n",
      "\n",
      "Exact equality (a == b): [ True  True False False]\n",
      "Equality within tolerance (a ≈ b): [ True  True  True False]\n"
     ]
    }
   ],
   "source": [
    "import numpy as np\n",
    "\n",
    "a = np.array([1.0, 2.0, 3.000001, 4.0])\n",
    "b = np.array([1.0, 2.0, 3.0, 5.0])\n",
    "\n",
    "exact_equal = np.equal(a, b)\n",
    "\n",
    "tolerance_equal = np.isclose(a, b, atol=1e-5)\n",
    "\n",
    "print(\"Array a:\", a)\n",
    "print(\"Array b:\", b)\n",
    "print(\"\\nExact equality (a == b):\", exact_equal)\n",
    "print(\"Equality within tolerance (a ≈ b):\", tolerance_equal)"
   ]
  },
  {
   "cell_type": "code",
   "execution_count": 9,
   "id": "88922d58-dde0-48eb-8ecf-e0617386b42a",
   "metadata": {},
   "outputs": [
    {
     "name": "stdout",
     "output_type": "stream",
     "text": [
      "Array of 10 zeros: [0. 0. 0. 0. 0. 0. 0. 0. 0. 0.]\n",
      "Array of 10 ones: [1. 1. 1. 1. 1. 1. 1. 1. 1. 1.]\n",
      "Array of 10 fives: [5 5 5 5 5 5 5 5 5 5]\n"
     ]
    }
   ],
   "source": [
    "import numpy as np\n",
    "\n",
    "zeros_array = np.zeros(10)\n",
    "ones_array = np.ones(10)\n",
    "fives_array = np.full(10, 5)\n",
    "\n",
    "print(\"Array of 10 zeros:\", zeros_array)\n",
    "print(\"Array of 10 ones:\", ones_array)\n",
    "print(\"Array of 10 fives:\", fives_array)"
   ]
  },
  {
   "cell_type": "code",
   "execution_count": 10,
   "id": "bef78ab8-19f2-4838-9bcc-68852925e6d3",
   "metadata": {},
   "outputs": [
    {
     "name": "stdout",
     "output_type": "stream",
     "text": [
      "Array of integers from 30 to 70: [30 31 32 33 34 35 36 37 38 39 40 41 42 43 44 45 46 47 48 49 50 51 52 53\n",
      " 54 55 56 57 58 59 60 61 62 63 64 65 66 67 68 69 70]\n"
     ]
    }
   ],
   "source": [
    "import numpy as np\n",
    "arr = np.arange(30, 71)\n",
    "print(\"Array of integers from 30 to 70:\", arr)"
   ]
  },
  {
   "cell_type": "code",
   "execution_count": 11,
   "id": "f5c61b58-153a-4807-8118-79d2fa98082f",
   "metadata": {},
   "outputs": [
    {
     "name": "stdout",
     "output_type": "stream",
     "text": [
      "Even integers from 30 to 70: [30 32 34 36 38 40 42 44 46 48 50 52 54 56 58 60 62 64 66 68 70]\n"
     ]
    }
   ],
   "source": [
    "import numpy as np\n",
    "even_arr = np.arange(30, 71, 2)\n",
    "print(\"Even integers from 30 to 70:\", even_arr)"
   ]
  },
  {
   "cell_type": "code",
   "execution_count": 12,
   "id": "a96eb17c-ea14-4aba-8907-6be80b675f64",
   "metadata": {},
   "outputs": [
    {
     "name": "stdout",
     "output_type": "stream",
     "text": [
      "3x3 Identity Matrix:\n",
      "[[1. 0. 0.]\n",
      " [0. 1. 0.]\n",
      " [0. 0. 1.]]\n"
     ]
    }
   ],
   "source": [
    "import numpy as np\n",
    "identity_matrix = np.eye(3)\n",
    "print(\"3x3 Identity Matrix:\")\n",
    "print(identity_matrix)"
   ]
  },
  {
   "cell_type": "code",
   "execution_count": 13,
   "id": "ed42912b-aa88-482f-8de5-dbbadb07fcc5",
   "metadata": {},
   "outputs": [
    {
     "name": "stdout",
     "output_type": "stream",
     "text": [
      "Random number between 0 and 1: 0.048634662341801915\n"
     ]
    }
   ],
   "source": [
    "import numpy as np\n",
    "random_number = np.random.rand()\n",
    "print(\"Random number between 0 and 1:\", random_number)"
   ]
  },
  {
   "cell_type": "code",
   "execution_count": 14,
   "id": "0705e30e-1b2c-42b8-a831-4562e6015979",
   "metadata": {},
   "outputs": [
    {
     "name": "stdout",
     "output_type": "stream",
     "text": [
      "Original vector: [15 16 17 18 19 20 21 22 23 24 25 26 27 28 29 30 31 32 33 34 35 36 37 38\n",
      " 39 40 41 42 43 44 45 46 47 48 49 50 51 52 53 54 55]\n",
      "Values except first and last: [16 17 18 19 20 21 22 23 24 25 26 27 28 29 30 31 32 33 34 35 36 37 38 39\n",
      " 40 41 42 43 44 45 46 47 48 49 50 51 52 53 54]\n"
     ]
    }
   ],
   "source": [
    "import numpy as np\n",
    "vector = np.arange(15, 56)\n",
    "print(\"Original vector:\", vector)\n",
    "print(\"Values except first and last:\", vector[1:-1])"
   ]
  },
  {
   "cell_type": "code",
   "execution_count": 15,
   "id": "1e724ed0-7926-4a1b-9e94-3ec52b3d79f1",
   "metadata": {},
   "outputs": [
    {
     "name": "stdout",
     "output_type": "stream",
     "text": [
      "3x4 Array:\n",
      "[[ 1  2  3  4]\n",
      " [ 5  6  7  8]\n",
      " [ 9 10 11 12]]\n",
      "\n",
      "Iterating over elements:\n",
      "1 2 3 4 \n",
      "5 6 7 8 \n",
      "9 10 11 12 \n"
     ]
    }
   ],
   "source": [
    "import numpy as np\n",
    "arr = np.arange(1, 13).reshape(3, 4)\n",
    "print(\"3x4 Array:\")\n",
    "print(arr)\n",
    "print(\"\\nIterating over elements:\")\n",
    "for row in arr:\n",
    "    for element in row:\n",
    "        print(element, end=' ')\n",
    "    print()  "
   ]
  },
  {
   "cell_type": "code",
   "execution_count": 16,
   "id": "840b13b2-6061-47c5-a134-a5f336d43269",
   "metadata": {},
   "outputs": [
    {
     "name": "stdout",
     "output_type": "stream",
     "text": [
      "Vector with evenly spaced values between 5 and 50:\n",
      "[ 5. 10. 15. 20. 25. 30. 35. 40. 45. 50.]\n"
     ]
    }
   ],
   "source": [
    "import numpy as np\n",
    "vector = np.linspace(5, 50, 10)\n",
    "print(\"Vector with evenly spaced values between 5 and 50:\")\n",
    "print(vector)"
   ]
  },
  {
   "cell_type": "code",
   "execution_count": 17,
   "id": "f2558691-2dfa-4238-9d7a-3f10986a6930",
   "metadata": {},
   "outputs": [
    {
     "name": "stdout",
     "output_type": "stream",
     "text": [
      "Modified vector:\n",
      "[  0   1   2   3   4   5   6   7   8  -9 -10 -11 -12 -13 -14 -15  16  17\n",
      "  18  19  20]\n"
     ]
    }
   ],
   "source": [
    "import numpy as np\n",
    "vector = np.arange(21)\n",
    "mask = (vector >= 9) & (vector <= 15)\n",
    "vector[mask] = -vector[mask]\n",
    "print(\"Modified vector:\")\n",
    "print(vector)"
   ]
  },
  {
   "cell_type": "code",
   "execution_count": 18,
   "id": "69a9498e-7ba2-4fa3-a5b9-dde21bc25233",
   "metadata": {},
   "outputs": [
    {
     "name": "stdout",
     "output_type": "stream",
     "text": [
      "Vector 1: [1 2 3 4]\n",
      "Vector 2: [5 6 7 8]\n",
      "Element-wise multiplication: [ 5 12 21 32]\n"
     ]
    }
   ],
   "source": [
    "import numpy as np\n",
    "vector1 = np.array([1, 2, 3, 4])\n",
    "vector2 = np.array([5, 6, 7, 8])\n",
    "\n",
    "result = vector1 * vector2\n",
    "\n",
    "print(\"Vector 1:\", vector1)\n",
    "print(\"Vector 2:\", vector2)\n",
    "print(\"Element-wise multiplication:\", result)"
   ]
  },
  {
   "cell_type": "code",
   "execution_count": 19,
   "id": "00e573b3-1cfc-424d-8078-ede91673b86e",
   "metadata": {},
   "outputs": [
    {
     "name": "stdout",
     "output_type": "stream",
     "text": [
      "3x4 matrix filled with values from 10 to 21:\n",
      "[[10 11 12 13]\n",
      " [14 15 16 17]\n",
      " [18 19 20 21]]\n"
     ]
    }
   ],
   "source": [
    "import numpy as np\n",
    "arr = np.arange(10, 22).reshape(3, 4)\n",
    "print(\"3x4 matrix filled with values from 10 to 21:\")\n",
    "print(arr)"
   ]
  },
  {
   "cell_type": "code",
   "execution_count": 20,
   "id": "2e32e684-b07b-49ca-b591-0cf3456c4d0a",
   "metadata": {},
   "outputs": [
    {
     "name": "stdout",
     "output_type": "stream",
     "text": [
      "Number of rows: 4\n",
      "Number of columns: 3\n"
     ]
    }
   ],
   "source": [
    "import numpy as np\n",
    "\n",
    "matrix = np.array([[1, 2, 3],\n",
    "                   [4, 5, 6],\n",
    "                   [7, 8, 9],\n",
    "                   [10, 11, 12]])\n",
    "\n",
    "rows, columns = matrix.shape\n",
    "\n",
    "print(\"Number of rows:\", rows)\n",
    "print(\"Number of columns:\", columns)"
   ]
  },
  {
   "cell_type": "code",
   "execution_count": 21,
   "id": "22cee584-b268-4c41-ae4f-24ba7dbb1b44",
   "metadata": {},
   "outputs": [
    {
     "name": "stdout",
     "output_type": "stream",
     "text": [
      "5x5 matrix with diagonal elements 1 to 5:\n",
      "[[1 0 0 0 0]\n",
      " [0 2 0 0 0]\n",
      " [0 0 3 0 0]\n",
      " [0 0 0 4 0]\n",
      " [0 0 0 0 5]]\n"
     ]
    }
   ],
   "source": [
    "import numpy as np\n",
    "matrix = np.zeros((5, 5), dtype=int)\n",
    "np.fill_diagonal(matrix, [1, 2, 3, 4, 5])\n",
    "print(\"5x5 matrix with diagonal elements 1 to 5:\")\n",
    "print(matrix)"
   ]
  },
  {
   "cell_type": "code",
   "execution_count": 22,
   "id": "5298a02c-b2e7-4629-bfcc-87f1bf2a30dd",
   "metadata": {},
   "outputs": [
    {
     "name": "stdout",
     "output_type": "stream",
     "text": [
      "3x3x3 array with arbitrary values:\n",
      "[[[0.82783406 0.42069079 0.1058087 ]\n",
      "  [0.00583679 0.61067894 0.25764994]\n",
      "  [0.15867295 0.36127387 0.23218735]]\n",
      "\n",
      " [[0.40432465 0.78893618 0.78277043]\n",
      "  [0.52762859 0.99728019 0.13579278]\n",
      "  [0.79836052 0.39632882 0.57317614]]\n",
      "\n",
      " [[0.80693846 0.77812802 0.0542758 ]\n",
      "  [0.85260079 0.83811054 0.46156712]\n",
      "  [0.33696346 0.43880316 0.06243994]]]\n"
     ]
    }
   ],
   "source": [
    "import numpy as np\n",
    "arr = np.random.rand(3, 3, 3)\n",
    "print(\"3x3x3 array with arbitrary values:\")\n",
    "print(arr)"
   ]
  },
  {
   "cell_type": "code",
   "execution_count": 23,
   "id": "e0cb6ef5-f377-4187-9867-46cb3e2954f3",
   "metadata": {},
   "outputs": [
    {
     "name": "stdout",
     "output_type": "stream",
     "text": [
      "Array:\n",
      "[[1 2 3]\n",
      " [4 5 6]\n",
      " [7 8 9]]\n",
      "\n",
      "Sum of all elements: 45\n",
      "Sum of each column: [12 15 18]\n",
      "Sum of each row: [ 6 15 24]\n"
     ]
    }
   ],
   "source": [
    "import numpy as np\n",
    "\n",
    "arr = np.array([[1, 2, 3],\n",
    "                [4, 5, 6],\n",
    "                [7, 8, 9]])\n",
    "\n",
    "total_sum = np.sum(arr)\n",
    "col_sum = np.sum(arr, axis=0)\n",
    "row_sum = np.sum(arr, axis=1)\n",
    "\n",
    "print(\"Array:\")\n",
    "print(arr)\n",
    "print(\"\\nSum of all elements:\", total_sum)\n",
    "print(\"Sum of each column:\", col_sum)\n",
    "print(\"Sum of each row:\", row_sum)"
   ]
  },
  {
   "cell_type": "code",
   "execution_count": 24,
   "id": "52d08122-08f8-49d6-8149-a1136f8f3bf9",
   "metadata": {},
   "outputs": [
    {
     "name": "stdout",
     "output_type": "stream",
     "text": [
      "Vector 1: [1 2 3]\n",
      "Vector 2: [4 5 6]\n",
      "Inner product: 32\n"
     ]
    }
   ],
   "source": [
    "import numpy as np\n",
    "\n",
    "vector1 = np.array([1, 2, 3])\n",
    "vector2 = np.array([4, 5, 6])\n",
    "\n",
    "inner_product = np.dot(vector1, vector2)\n",
    "\n",
    "print(\"Vector 1:\", vector1)\n",
    "print(\"Vector 2:\", vector2)\n",
    "print(\"Inner product:\", inner_product)"
   ]
  },
  {
   "cell_type": "code",
   "execution_count": 25,
   "id": "71addc4d-f0f4-4981-a48e-866f14a0f4d3",
   "metadata": {},
   "outputs": [
    {
     "name": "stdout",
     "output_type": "stream",
     "text": [
      "Original matrix:\n",
      " [[ 1  2  3  4]\n",
      " [ 5  6  7  8]\n",
      " [ 9 10 11 12]]\n",
      "Vector to add: [1 0 1 0]\n",
      "Result after adding vector to each row:\n",
      " [[ 2  2  4  4]\n",
      " [ 6  6  8  8]\n",
      " [10 10 12 12]]\n"
     ]
    }
   ],
   "source": [
    "import numpy as np\n",
    "\n",
    "matrix = np.array([[1, 2, 3, 4],\n",
    "                   [5, 6, 7, 8],\n",
    "                   [9, 10, 11, 12]])\n",
    "\n",
    "vector = np.array([1, 0, 1, 0])\n",
    "result = matrix + vector\n",
    "\n",
    "print(\"Original matrix:\\n\", matrix)\n",
    "print(\"Vector to add:\", vector)\n",
    "print(\"Result after adding vector to each row:\\n\", result)"
   ]
  },
  {
   "cell_type": "code",
   "execution_count": 26,
   "id": "3db832d9-e52e-4dd8-b1b0-c9daf6728d66",
   "metadata": {},
   "outputs": [
    {
     "name": "stdout",
     "output_type": "stream",
     "text": [
      "Array 1: [1 2 3 4]\n",
      "Array 2: [1 2 3 4]\n",
      "Array 3: [1 2 0 4]\n",
      "\n",
      "Are arr1 and arr2 exactly equal? True\n",
      "Are arr1 and arr3 exactly equal? False\n",
      "Element-wise equality between arr1 and arr3: [ True  True False  True]\n"
     ]
    }
   ],
   "source": [
    "import numpy as np\n",
    "\n",
    "arr1 = np.array([1, 2, 3, 4])\n",
    "arr2 = np.array([1, 2, 3, 4])\n",
    "arr3 = np.array([1, 2, 0, 4])\n",
    "\n",
    "equal_all = np.array_equal(arr1, arr2)\n",
    "not_equal_all = np.array_equal(arr1, arr3)\n",
    "elementwise_equal = np.equal(arr1, arr3)\n",
    "\n",
    "print(\"Array 1:\", arr1)\n",
    "print(\"Array 2:\", arr2)\n",
    "print(\"Array 3:\", arr3)\n",
    "print(\"\\nAre arr1 and arr2 exactly equal?\", equal_all)\n",
    "print(\"Are arr1 and arr3 exactly equal?\", not_equal_all)\n",
    "print(\"Element-wise equality between arr1 and arr3:\", elementwise_equal)"
   ]
  },
  {
   "cell_type": "code",
   "execution_count": 27,
   "id": "1c7ebe40-2fba-4da7-82f7-48349493d7d8",
   "metadata": {},
   "outputs": [
    {
     "name": "stdout",
     "output_type": "stream",
     "text": [
      "Array of shape (5,6) filled with zeros:\n",
      "[[0. 0. 0. 0. 0. 0.]\n",
      " [0. 0. 0. 0. 0. 0.]\n",
      " [0. 0. 0. 0. 0. 0.]\n",
      " [0. 0. 0. 0. 0. 0.]\n",
      " [0. 0. 0. 0. 0. 0.]]\n",
      "Data type: float64\n"
     ]
    }
   ],
   "source": [
    "import numpy as np\n",
    "arr = np.zeros((5, 6), dtype=float)\n",
    "print(\"Array of shape (5,6) filled with zeros:\")\n",
    "print(arr)\n",
    "print(\"Data type:\", arr.dtype)"
   ]
  },
  {
   "cell_type": "code",
   "execution_count": 28,
   "id": "57927abd-aba5-4335-9c88-9d9a9d5107c2",
   "metadata": {},
   "outputs": [
    {
     "name": "stdout",
     "output_type": "stream",
     "text": [
      "Original array:\n",
      "[[9 2 7]\n",
      " [4 5 6]\n",
      " [3 8 1]]\n",
      "\n",
      "Array sorted by rows (each row sorted ascending):\n",
      "[[2 7 9]\n",
      " [4 5 6]\n",
      " [1 3 8]]\n",
      "\n",
      "Array sorted by columns (each column sorted ascending):\n",
      "[[3 2 1]\n",
      " [4 5 6]\n",
      " [9 8 7]]\n"
     ]
    }
   ],
   "source": [
    "import numpy as np\n",
    "arr = np.array([[9, 2, 7],\n",
    "                [4, 5, 6],\n",
    "                [3, 8, 1]])\n",
    "\n",
    "print(\"Original array:\")\n",
    "print(arr)\n",
    "row_sorted = np.sort(arr, axis=1)\n",
    "\n",
    "print(\"\\nArray sorted by rows (each row sorted ascending):\")\n",
    "print(row_sorted)\n",
    "col_sorted = np.sort(arr, axis=0)\n",
    "print(\"\\nArray sorted by columns (each column sorted ascending):\")\n",
    "print(col_sorted)"
   ]
  },
  {
   "cell_type": "code",
   "execution_count": 29,
   "id": "ab48f663-0b5b-4cd8-9b1b-c7cde6ff2f28",
   "metadata": {},
   "outputs": [
    {
     "name": "stdout",
     "output_type": "stream",
     "text": [
      "Original array: [10 25  5 30 15 40  2 50]\n",
      "Numbers less than 20: [10  5 15  2]\n",
      "Numbers greater than 20: [25 30 40 50]\n"
     ]
    }
   ],
   "source": [
    "import numpy as np\n",
    "arr = np.array([10, 25, 5, 30, 15, 40, 2, 50])\n",
    "num = 20\n",
    "less_than = arr[arr < num]\n",
    "greater_than = arr[arr > num]\n",
    "print(\"Original array:\", arr)\n",
    "print(f\"Numbers less than {num}:\", less_than)\n",
    "print(f\"Numbers greater than {num}:\", greater_than)"
   ]
  },
  {
   "cell_type": "code",
   "execution_count": 30,
   "id": "2d8f22e0-0d7b-4724-9e19-34edd5460625",
   "metadata": {},
   "outputs": [
    {
     "name": "stdout",
     "output_type": "stream",
     "text": [
      "Original array: [10 25  5 30 15 40  2 50]\n",
      "Modified array: [0 1 0 1 0 1 0 1]\n"
     ]
    }
   ],
   "source": [
    "import numpy as np\n",
    "arr = np.array([10, 25, 5, 30, 15, 40, 2, 50])\n",
    "num = 20\n",
    "result = arr.copy()\n",
    "result[result == num] = -1\n",
    "result[result < num] = 0\n",
    "result[result > num] = 1\n",
    "print(\"Original array:\", arr)\n",
    "print(\"Modified array:\", result)"
   ]
  },
  {
   "cell_type": "code",
   "execution_count": 31,
   "id": "ab677540-7f49-4a23-bcdb-ee628527c9be",
   "metadata": {},
   "outputs": [
    {
     "name": "stdout",
     "output_type": "stream",
     "text": [
      "Original array:\n",
      "[[ 1  2  3  4]\n",
      " [ 5  6  7  8]\n",
      " [ 9 10 11 12]\n",
      " [13 14 15 16]]\n",
      "\n",
      "Array after swapping columns:\n",
      "[[ 4  3  2  1]\n",
      " [ 8  7  6  5]\n",
      " [12 11 10  9]\n",
      " [16 15 14 13]]\n"
     ]
    }
   ],
   "source": [
    "import numpy as np\n",
    "arr = np.arange(1, 17).reshape(4, 4)\n",
    "print(\"Original array:\")\n",
    "print(arr)\n",
    "swapped_arr = arr[:, [3, 2, 1, 0]]\n",
    "print(\"\\nArray after swapping columns:\")\n",
    "print(swapped_arr)"
   ]
  },
  {
   "cell_type": "code",
   "execution_count": 32,
   "id": "cef68c10-1ff2-4af8-868c-9ebb6099439d",
   "metadata": {},
   "outputs": [
    {
     "name": "stdout",
     "output_type": "stream",
     "text": [
      "Original array:\n",
      "[[1 2 3]\n",
      " [4 5 6]\n",
      " [7 8 9]]\n",
      "\n",
      "Array with rows and columns swapped in reverse order:\n",
      "[[9 8 7]\n",
      " [6 5 4]\n",
      " [3 2 1]]\n"
     ]
    }
   ],
   "source": [
    "import numpy as np\n",
    "arr = np.array([[1, 2, 3],\n",
    "                [4, 5, 6],\n",
    "                [7, 8, 9]])\n",
    "\n",
    "print(\"Original array:\")\n",
    "print(arr)\n",
    "reversed_arr = arr[::-1, ::-1]\n",
    "\n",
    "print(\"\\nArray with rows and columns swapped in reverse order:\")\n",
    "print(reversed_arr)"
   ]
  },
  {
   "cell_type": "code",
   "execution_count": 33,
   "id": "70596434-cad8-4b3d-8dc3-db98973188d7",
   "metadata": {},
   "outputs": [
    {
     "name": "stdout",
     "output_type": "stream",
     "text": [
      "Array 1: [1 2 3 4]\n",
      "Array 2: [5 6 7 8]\n",
      "Element-wise multiplication: [ 5 12 21 32]\n"
     ]
    }
   ],
   "source": [
    "import numpy as np\n",
    "arr1 = np.array([1, 2, 3, 4])\n",
    "arr2 = np.array([5, 6, 7, 8])\n",
    "result = arr1 * arr2\n",
    "print(\"Array 1:\", arr1)\n",
    "print(\"Array 2:\", arr2)\n",
    "print(\"Element-wise multiplication:\", result)"
   ]
  },
  {
   "cell_type": "code",
   "execution_count": 34,
   "id": "88216cb4-5c50-443a-a5e9-24fb844d7783",
   "metadata": {},
   "outputs": [
    {
     "name": "stdout",
     "output_type": "stream",
     "text": [
      "Original list: [12.23, 13.32, 100, 36.32]\n",
      "Converted NumPy array: [ 12.23  13.32 100.    36.32]\n"
     ]
    }
   ],
   "source": [
    "import numpy as np\n",
    "num_list = [12.23, 13.32, 100, 36.32]\n",
    "num_array = np.array(num_list)\n",
    "print(\"Original list:\", num_list)\n",
    "print(\"Converted NumPy array:\", num_array)"
   ]
  },
  {
   "cell_type": "code",
   "execution_count": 35,
   "id": "e98c6b28-9c4e-454f-aaae-f8e0b066f67b",
   "metadata": {},
   "outputs": [
    {
     "name": "stdout",
     "output_type": "stream",
     "text": [
      "3x3 Matrix with values from 2 to 10:\n",
      "[[ 2  3  4]\n",
      " [ 5  6  7]\n",
      " [ 8  9 10]]\n"
     ]
    }
   ],
   "source": [
    "import numpy as np\n",
    "matrix = np.arange(2, 11).reshape(3, 3)\n",
    "print(\"3x3 Matrix with values from 2 to 10:\")\n",
    "print(matrix)"
   ]
  },
  {
   "cell_type": "code",
   "execution_count": 36,
   "id": "3561f08a-ab5f-4167-82bc-ead3b54a4863",
   "metadata": {},
   "outputs": [
    {
     "name": "stdout",
     "output_type": "stream",
     "text": [
      "Updated vector:\n",
      "[ 0.  0.  0.  0.  0. 11.  0.  0.  0.  0.]\n"
     ]
    }
   ],
   "source": [
    "import numpy as np\n",
    "vector = np.zeros(10)\n",
    "vector[5] = 11\n",
    "print(\"Updated vector:\")\n",
    "print(vector)"
   ]
  },
  {
   "cell_type": "code",
   "execution_count": 37,
   "id": "6879fd54-a577-4530-8b84-7bbe4b1f580b",
   "metadata": {},
   "outputs": [
    {
     "name": "stdout",
     "output_type": "stream",
     "text": [
      "Array from 12 to 38:\n",
      "[12 13 14 15 16 17 18 19 20 21 22 23 24 25 26 27 28 29 30 31 32 33 34 35\n",
      " 36 37 38]\n"
     ]
    }
   ],
   "source": [
    "import numpy as np\n",
    "array = np.arange(12, 39)\n",
    "print(\"Array from 12 to 38:\")\n",
    "print(array)"
   ]
  },
  {
   "cell_type": "code",
   "execution_count": 39,
   "id": "68c11944-df84-4df4-9ee2-6d15ea8ded53",
   "metadata": {},
   "outputs": [
    {
     "name": "stdout",
     "output_type": "stream",
     "text": [
      "Original array:\n",
      "[ 1  2  3  4  5  6  7  8  9 10 11 12 13 14 15 16 17 18 19 20 21 22 23 24\n",
      " 25 26 27 28 29 30 31 32 33 34 35 36 37]\n",
      "Reversed array:\n",
      "[37 36 35 34 33 32 31 30 29 28 27 26 25 24 23 22 21 20 19 18 17 16 15 14\n",
      " 13 12 11 10  9  8  7  6  5  4  3  2  1]\n"
     ]
    }
   ],
   "source": [
    "import numpy as np\n",
    "array = np.arange(1, 38)  \n",
    "print(\"Original array:\")\n",
    "print(array)\n",
    "\n",
    "reversed_array = array[::-1]\n",
    "print(\"Reversed array:\")\n",
    "print(reversed_array)"
   ]
  },
  {
   "cell_type": "code",
   "execution_count": 40,
   "id": "d9645bb3-572a-43ab-9f6e-8aac90716fe0",
   "metadata": {},
   "outputs": [
    {
     "name": "stdout",
     "output_type": "stream",
     "text": [
      "Original array: [1 2 3 4]\n",
      "Array converted to float: [1. 2. 3. 4.]\n"
     ]
    }
   ],
   "source": [
    "import numpy as np\n",
    "arr = np.array([1, 2, 3, 4])\n",
    "float_arr = arr.astype(float)\n",
    "print(\"Original array:\", arr)\n",
    "print(\"Array converted to float:\", float_arr)"
   ]
  },
  {
   "cell_type": "code",
   "execution_count": 42,
   "id": "f76da9f6-5fc0-4aac-b27d-9ab3b33bc9cc",
   "metadata": {},
   "outputs": [
    {
     "name": "stdout",
     "output_type": "stream",
     "text": [
      "Original array: [10 20 30]\n",
      "Array after appending: [10 20 30 40 50 60 70 80 90]\n"
     ]
    }
   ],
   "source": [
    "import numpy as np\n",
    "arr = np.array([10, 20, 30])\n",
    "values_to_append = [40, 50, 60, 70, 80, 90]\n",
    "new_arr = np.append(arr, values_to_append)\n",
    "print(\"Original array:\", arr)\n",
    "print(\"Array after appending:\", new_arr)"
   ]
  },
  {
   "cell_type": "code",
   "execution_count": 44,
   "id": "1a0a8efb-b04d-4c91-b56a-309a142385c2",
   "metadata": {},
   "outputs": [
    {
     "name": "stdout",
     "output_type": "stream",
     "text": [
      "[[1.01855798e-312 1.12465777e-312 1.01855798e-312 9.54898106e-313]\n",
      " [1.03977794e-312 1.01855798e-312 1.23075756e-312 1.16709769e-312]\n",
      " [1.03977794e-312 9.76118064e-313 1.12465777e-312 1.90979621e-312]]\n",
      "[[6 6 6]\n",
      " [6 6 6]\n",
      " [6 6 6]]\n"
     ]
    }
   ],
   "source": [
    "import numpy as np\n",
    "empty_array = np.empty((3, 4))\n",
    "full_array = np.full((3, 3), 6)\n",
    "print(empty_array)\n",
    "print(full_array)"
   ]
  },
  {
   "cell_type": "code",
   "execution_count": 48,
   "id": "d3313459-b464-407b-905e-14affa3bfb58",
   "metadata": {},
   "outputs": [
    {
     "name": "stdout",
     "output_type": "stream",
     "text": [
      "Values in Fahrenheit degrees: [ 0.   12.   45.21 34.   99.91 32.  ]\n",
      "Values in Centigrade degrees: [-17.78 -11.11   7.34   1.11  37.73   0.  ]\n",
      "Values in Centigrade degrees: [-17.78 -11.11   7.34   1.11  37.73   0.  ]\n",
      "Values in Fahrenheit degrees: [-4.0000e-03  1.2002e+01  4.5212e+01  3.3998e+01  9.9914e+01  3.2000e+01]\n"
     ]
    }
   ],
   "source": [
    "import numpy as np\n",
    "\n",
    "fahrenheit_values = np.array([0, 12, 45.21, 34, 99.91, 32.])\n",
    "centigrade_values = np.array([-17.78, -11.11, 7.34, 1.11, 37.73, 0.])\n",
    "\n",
    "converted_to_fahrenheit = centigrade_values * 9 / 5 + 32\n",
    "\n",
    "converted_to_centigrade = (fahrenheit_values - 32) * 5 / 9\n",
    "\n",
    "print(\"Values in Fahrenheit degrees:\", fahrenheit_values)\n",
    "print(\"Values in Centigrade degrees:\", centigrade_values)\n",
    "print(\"Values in Centigrade degrees:\", centigrade_values)\n",
    "print(\"Values in Fahrenheit degrees:\", converted_to_fahrenheit)"
   ]
  },
  {
   "cell_type": "code",
   "execution_count": 49,
   "id": "34281933-b7f2-4bb3-84e5-06dfa4d7dd1b",
   "metadata": {},
   "outputs": [
    {
     "name": "stdout",
     "output_type": "stream",
     "text": [
      "Array1: [ 0 10 20 40 60]\n",
      "Array2: [ 0 40]\n",
      "Compare each element of array1 and array2 [ True False False  True False]\n"
     ]
    }
   ],
   "source": [
    "import numpy as np\n",
    "\n",
    "array1 = np.array([0, 10, 20, 40, 60])\n",
    "array2 = np.array([0, 40])\n",
    "\n",
    "comparison = np.isin(array1, array2)\n",
    "\n",
    "print(\"Array1:\", array1)\n",
    "print(\"Array2:\", array2)\n",
    "print(\"Compare each element of array1 and array2\", comparison)"
   ]
  },
  {
   "cell_type": "code",
   "execution_count": 50,
   "id": "42c965e3-9361-4434-96a9-44955c4e7050",
   "metadata": {},
   "outputs": [
    {
     "name": "stdout",
     "output_type": "stream",
     "text": [
      "Array1: [ 0 10 20 40 60]\n",
      "Array2: [10 30 40]\n",
      "Common values between two arrays: [10 40]\n"
     ]
    }
   ],
   "source": [
    "import numpy as np\n",
    "\n",
    "array1 = np.array([0, 10, 20, 40, 60])\n",
    "array2 = np.array([10, 30, 40])\n",
    "\n",
    "common_values = np.intersect1d(array1, array2)\n",
    "\n",
    "print(\"Array1:\", array1)\n",
    "print(\"Array2:\", array2)\n",
    "print(\"Common values between two arrays:\", common_values)"
   ]
  },
  {
   "cell_type": "code",
   "execution_count": 51,
   "id": "f74f0e93-8eb4-4f3d-9d85-d3449cf91336",
   "metadata": {},
   "outputs": [
    {
     "name": "stdout",
     "output_type": "stream",
     "text": [
      "Original array:\n",
      "[10 10 20 20 30 30]\n",
      "Unique elements of the above array: [10 20 30]\n",
      "\n",
      "Original array:\n",
      "[[1 1]\n",
      " [2 3]]\n",
      "Unique elements of the above array: [1 2 3]\n"
     ]
    }
   ],
   "source": [
    "import numpy as np\n",
    "\n",
    "arr1 = np.array([10, 10, 20, 20, 30, 30])\n",
    "unique_arr1 = np.unique(arr1)\n",
    "\n",
    "print(\"Original array:\")\n",
    "print(arr1)\n",
    "print(\"Unique elements of the above array:\", unique_arr1)\n",
    "\n",
    "arr2 = np.array([[1, 1],\n",
    "                 [2, 3]])\n",
    "unique_arr2 = np.unique(arr2)\n",
    "\n",
    "print(\"\\nOriginal array:\")\n",
    "print(arr2)\n",
    "print(\"Unique elements of the above array:\", unique_arr2)"
   ]
  },
  {
   "cell_type": "code",
   "execution_count": 52,
   "id": "0d7bcc09-ec4e-4ad8-ba12-de505f397df9",
   "metadata": {},
   "outputs": [
    {
     "name": "stdout",
     "output_type": "stream",
     "text": [
      "Array1: [ 0 10 20 40 60 80]\n",
      "Array2: [10 30 40 50 70 90]\n",
      "Set difference between two arrays: [ 0 20 60 80]\n"
     ]
    }
   ],
   "source": [
    "import numpy as np\n",
    "\n",
    "array1 = np.array([0, 10, 20, 40, 60, 80])\n",
    "array2 = np.array([10, 30, 40, 50, 70, 90])\n",
    "\n",
    "set_diff = np.setdiff1d(array1, array2)\n",
    "\n",
    "print(\"Array1:\", array1)\n",
    "print(\"Array2:\", array2)\n",
    "print(\"Set difference between two arrays:\", set_diff)"
   ]
  },
  {
   "cell_type": "code",
   "execution_count": 53,
   "id": "432a356f-ca00-4a25-9cf7-1ef9c11723c4",
   "metadata": {},
   "outputs": [
    {
     "name": "stdout",
     "output_type": "stream",
     "text": [
      "Array a: [1 2]\n",
      "Array b: [4 5]\n",
      "a > b [False False]\n",
      "a >= b [False False]\n",
      "a < b [ True  True]\n",
      "a <= b [ True  True]\n"
     ]
    }
   ],
   "source": [
    "import numpy as np\n",
    "\n",
    "a = np.array([1, 2])\n",
    "b = np.array([4, 5])\n",
    "\n",
    "gt = a > b\n",
    "ge = a >= b\n",
    "lt = a < b\n",
    "le = a <= b\n",
    "\n",
    "print(\"Array a:\", a)\n",
    "print(\"Array b:\", b)\n",
    "print(\"a > b\", gt)\n",
    "print(\"a >= b\", ge)\n",
    "print(\"a < b\", lt)\n",
    "print(\"a <= b\", le)"
   ]
  },
  {
   "cell_type": "code",
   "execution_count": 54,
   "id": "0961de75-c5db-4a0f-bb66-33086b09e269",
   "metadata": {},
   "outputs": [
    {
     "name": "stdout",
     "output_type": "stream",
     "text": [
      "Original array:\n",
      "[[4 6]\n",
      " [2 1]]\n",
      "\n",
      "Sort along the first axis:\n",
      "[[2 1]\n",
      " [4 6]]\n",
      "\n",
      "Sort along the last axis:\n",
      "[[4 6]\n",
      " [1 2]]\n"
     ]
    }
   ],
   "source": [
    "import numpy as np\n",
    "arr = np.array([[4, 6], [2, 1]])\n",
    "print(\"Original array:\")\n",
    "print(arr)\n",
    "sorted_first_axis = np.sort(arr, axis=0)\n",
    "print(\"\\nSort along the first axis:\")\n",
    "print(sorted_first_axis)\n",
    "sorted_last_axis = np.sort(arr, axis=1)\n",
    "print(\"\\nSort along the last axis:\")\n",
    "print(sorted_last_axis)"
   ]
  },
  {
   "cell_type": "code",
   "execution_count": 55,
   "id": "b0dfc57a-a08c-4cd9-8cec-06266974df81",
   "metadata": {},
   "outputs": [
    {
     "name": "stdout",
     "output_type": "stream",
     "text": [
      "Original array:\n",
      "[[ 0 10 20]\n",
      " [20 30 40]]\n",
      "Values bigger than 10 = [20 20 30 40]\n",
      "Their indices are (array([0, 1, 1, 1], dtype=int64), array([2, 0, 1, 2], dtype=int64))\n"
     ]
    }
   ],
   "source": [
    "import numpy as np\n",
    "arr = np.array([[0, 10, 20], [20, 30, 40]])\n",
    "indices = np.where(arr > 10)\n",
    "\n",
    "values = arr[indices]\n",
    "\n",
    "print(\"Original array:\")\n",
    "print(arr)\n",
    "print(\"Values bigger than 10 =\", values)\n",
    "print(\"Their indices are\", indices)"
   ]
  },
  {
   "cell_type": "code",
   "execution_count": 56,
   "id": "58729f26-25c6-46b4-ab05-8101f4e6f197",
   "metadata": {},
   "outputs": [
    {
     "name": "stdout",
     "output_type": "stream",
     "text": [
      "Original array:\n",
      "[[10 20 30]\n",
      " [20 40 50]]\n",
      "New flattened array:\n",
      "[10 20 30 20 40 50]\n"
     ]
    }
   ],
   "source": [
    "import numpy as np\n",
    "a = np.array([[10, 20, 30], [20, 40, 50]])\n",
    "print(\"Original array:\")\n",
    "print(a)\n",
    "\n",
    "flat = a.ravel()\n",
    "print(\"New flattened array:\")\n",
    "print(flat)"
   ]
  },
  {
   "cell_type": "code",
   "execution_count": 57,
   "id": "34df19ff-5574-4e0e-8a82-a43962afba2e",
   "metadata": {},
   "outputs": [
    {
     "name": "stdout",
     "output_type": "stream",
     "text": [
      "Shape: (2, 3)\n",
      "Type: <class 'numpy.ndarray'>\n",
      "Data type: int32\n"
     ]
    }
   ],
   "source": [
    "import numpy as np\n",
    "arr = np.array([[1, 2, 3],\n",
    "                [4, 5, 6]], dtype=np.int32)\n",
    "\n",
    "print(\"Shape:\", arr.shape)\n",
    "print(\"Type:\", type(arr))\n",
    "print(\"Data type:\", arr.dtype)"
   ]
  },
  {
   "cell_type": "code",
   "execution_count": 58,
   "id": "c9b5aea0-e32e-4002-b75d-f1936492b319",
   "metadata": {},
   "outputs": [
    {
     "name": "stdout",
     "output_type": "stream",
     "text": [
      "Original 3x2 array:\n",
      " [[1 2]\n",
      " [3 4]\n",
      " [5 6]]\n",
      "Reshaped 2x3 array:\n",
      " [[1 2 3]\n",
      " [4 5 6]]\n"
     ]
    }
   ],
   "source": [
    "import numpy as np\n",
    "original_array = np.array([[1, 2],\n",
    "                           [3, 4],\n",
    "                           [5, 6]])\n",
    "\n",
    "reshaped_array = original_array.reshape(2, 3)\n",
    "\n",
    "print(\"Original 3x2 array:\\n\", original_array)\n",
    "print(\"Reshaped 2x3 array:\\n\", reshaped_array)"
   ]
  },
  {
   "cell_type": "code",
   "execution_count": 60,
   "id": "deadad86-9d52-44ec-a52b-22c7c637f211",
   "metadata": {},
   "outputs": [
    {
     "name": "stdout",
     "output_type": "stream",
     "text": [
      "[[2 2 2 2 2]\n",
      " [2 2 2 2 2]\n",
      " [2 2 2 2 2]]\n"
     ]
    }
   ],
   "source": [
    "import numpy as np\n",
    "array = np.full((3, 5), 2)\n",
    "print(array)"
   ]
  },
  {
   "cell_type": "code",
   "execution_count": 61,
   "id": "40abd86c-7a2a-4a2f-af32-9cbe273876f7",
   "metadata": {},
   "outputs": [
    {
     "name": "stdout",
     "output_type": "stream",
     "text": [
      "[10 10 10 10]\n"
     ]
    }
   ],
   "source": [
    "import numpy as np\n",
    "original_array = np.array([1, 2, 3, 4])\n",
    "tens_array = np.full_like(original_array, 10)\n",
    "print(tens_array)"
   ]
  },
  {
   "cell_type": "code",
   "execution_count": 62,
   "id": "b98f94c4-3f74-4868-969f-b3223c5d4edf",
   "metadata": {},
   "outputs": [
    {
     "name": "stdout",
     "output_type": "stream",
     "text": [
      "[[4 0 0 0]\n",
      " [0 5 0 0]\n",
      " [0 0 6 0]\n",
      " [0 0 0 8]]\n"
     ]
    }
   ],
   "source": [
    "import numpy as np\n",
    "diagonal_values = [4, 5, 6, 8]\n",
    "array = np.diag(diagonal_values)\n",
    "print(array)"
   ]
  },
  {
   "cell_type": "code",
   "execution_count": 63,
   "id": "ff64cdfe-6752-4f5c-8906-dea214533d47",
   "metadata": {},
   "outputs": [
    {
     "name": "stdout",
     "output_type": "stream",
     "text": [
      "Array from 0 to 50:\n",
      "[ 0  1  2  3  4  5  6  7  8  9 10 11 12 13 14 15 16 17 18 19 20 21 22 23\n",
      " 24 25 26 27 28 29 30 31 32 33 34 35 36 37 38 39 40 41 42 43 44 45 46 47\n",
      " 48 49]\n",
      "Array from 10 to 50:\n",
      "[10 11 12 13 14 15 16 17 18 19 20 21 22 23 24 25 26 27 28 29 30 31 32 33\n",
      " 34 35 36 37 38 39 40 41 42 43 44 45 46 47 48 49]\n"
     ]
    }
   ],
   "source": [
    "import numpy as np\n",
    "array1 = np.arange(0, 50)\n",
    "print(\"Array from 0 to 50:\")\n",
    "print(array1)\n",
    "\n",
    "array2 = np.arange(10, 50)\n",
    "print(\"Array from 10 to 50:\")\n",
    "print(array2)"
   ]
  },
  {
   "cell_type": "code",
   "execution_count": 64,
   "id": "fb512b21-f508-4328-8c26-dbdda1eb3f67",
   "metadata": {},
   "outputs": [
    {
     "name": "stdout",
     "output_type": "stream",
     "text": [
      "Original array:\n",
      "[[ 2  4  6]\n",
      " [ 6  8 10]]\n",
      "Forth element of the array: 6\n"
     ]
    }
   ],
   "source": [
    "import numpy as np\n",
    "arr = np.array([[2, 4, 6],\n",
    "                [6, 8, 10]])\n",
    "\n",
    "print(\"Original array:\")\n",
    "print(arr)\n",
    "fourth_element = arr.flatten()[3]\n",
    "print(\"Forth element of the array:\", fourth_element)"
   ]
  },
  {
   "cell_type": "code",
   "execution_count": 65,
   "id": "e9ae5e4a-287e-472a-aabe-e1352b64c3ae",
   "metadata": {},
   "outputs": [
    {
     "name": "stdout",
     "output_type": "stream",
     "text": [
      "Original array:\n",
      "[[1.12 2.   3.45]\n",
      " [2.33 5.12 6.  ]]\n",
      "True False True False True\n"
     ]
    }
   ],
   "source": [
    "import numpy as np\n",
    "arr = np.array([[1.12, 2.0, 3.45],\n",
    "                [2.33, 5.12, 6.0]])\n",
    "\n",
    "test_values = [1.12, 7, 3.45, 8, 5.12]\n",
    "\n",
    "presence = [val in arr for val in test_values]\n",
    "\n",
    "print(\"Original array:\")\n",
    "print(arr)\n",
    "print(*presence)"
   ]
  },
  {
   "cell_type": "code",
   "execution_count": null,
   "id": "91270956-8c50-4af3-a652-0d8ca4b574c0",
   "metadata": {},
   "outputs": [],
   "source": []
  }
 ],
 "metadata": {
  "kernelspec": {
   "display_name": "Python [conda env:base] *",
   "language": "python",
   "name": "conda-base-py"
  },
  "language_info": {
   "codemirror_mode": {
    "name": "ipython",
    "version": 3
   },
   "file_extension": ".py",
   "mimetype": "text/x-python",
   "name": "python",
   "nbconvert_exporter": "python",
   "pygments_lexer": "ipython3",
   "version": "3.12.7"
  }
 },
 "nbformat": 4,
 "nbformat_minor": 5
}
