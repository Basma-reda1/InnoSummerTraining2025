{
 "cells": [
  {
   "cell_type": "code",
   "execution_count": 1,
   "id": "3d4474f8-a96c-445e-8bac-d69d1a2234df",
   "metadata": {},
   "outputs": [
    {
     "name": "stdout",
     "output_type": "stream",
     "text": [
      "Original flattened array:\n",
      "[[0 1]\n",
      " [2 3]]\n",
      "Maximum value of the above flattened array: 3\n",
      "Minimum value of the above flattened array: 0\n"
     ]
    }
   ],
   "source": [
    "import numpy as np\n",
    "arr = np.array([[0, 1],\n",
    "                [2, 3]])\n",
    "\n",
    "print(\"Original flattened array:\")\n",
    "print(arr)\n",
    "\n",
    "flat_arr = arr.flatten()\n",
    "\n",
    "max_val = flat_arr.max()\n",
    "min_val = flat_arr.min()\n",
    "\n",
    "print(\"Maximum value of the above flattened array:\", max_val)\n",
    "print(\"Minimum value of the above flattened array:\", min_val)"
   ]
  },
  {
   "cell_type": "code",
   "execution_count": 2,
   "id": "c3131bdb-15ff-4007-8fc9-3bec9be28948",
   "metadata": {},
   "outputs": [
    {
     "name": "stdout",
     "output_type": "stream",
     "text": [
      "Original array:\n",
      "[[0 1]\n",
      " [2 3]]\n",
      "Maximum value along the second axis: [1 3]\n",
      "Minimum value along the second axis: [0 2]\n"
     ]
    }
   ],
   "source": [
    "import numpy as np\n",
    "arr = np.array([[0, 1],\n",
    "                [2, 3]])\n",
    "\n",
    "print(\"Original array:\")\n",
    "print(arr)\n",
    "\n",
    "max_along_axis = np.max(arr, axis=1)\n",
    "min_along_axis = np.min(arr, axis=1)\n",
    "\n",
    "print(\"Maximum value along the second axis:\", max_along_axis)\n",
    "print(\"Minimum value along the second axis:\", min_along_axis)"
   ]
  },
  {
   "cell_type": "code",
   "execution_count": 3,
   "id": "2cb55e7c-1eb3-43b7-8e33-35952556a9f7",
   "metadata": {},
   "outputs": [
    {
     "name": "stdout",
     "output_type": "stream",
     "text": [
      "Original array:\n",
      "[[ 0  1  2  3  4  5]\n",
      " [ 6  7  8  9 10 11]]\n",
      "Difference between the maximum and the minimum values of the said array: [5 5]\n"
     ]
    }
   ],
   "source": [
    "import numpy as np\n",
    "arr = np.array([[0, 1, 2, 3, 4, 5],\n",
    "                [6, 7, 8, 9, 10, 11]])\n",
    "\n",
    "print(\"Original array:\")\n",
    "print(arr)\n",
    "\n",
    "diff = np.max(arr, axis=1) - np.min(arr, axis=1)\n",
    "\n",
    "print(\"Difference between the maximum and the minimum values of the said array:\", diff)"
   ]
  },
  {
   "cell_type": "code",
   "execution_count": 4,
   "id": "0249f715-8ae6-4076-b20f-61bcd4788366",
   "metadata": {},
   "outputs": [
    {
     "name": "stdout",
     "output_type": "stream",
     "text": [
      "Original array:\n",
      "[[1. 2. 3. 4.]\n",
      " [5. 6. 7. 8.]]\n",
      "80th percentile along the second axis:\n",
      "[3.4 7.4]\n"
     ]
    }
   ],
   "source": [
    "import numpy as np\n",
    "arr = np.array([[1.0, 2.0, 3.0, 4.0],\n",
    "                [5.0, 6.0, 7.0, 8.0]])\n",
    "\n",
    "print(\"Original array:\")\n",
    "print(arr)\n",
    "\n",
    "percentile_80 = np.percentile(arr, 80, axis=1)\n",
    "\n",
    "print(\"80th percentile along the second axis:\")\n",
    "print(percentile_80)"
   ]
  },
  {
   "cell_type": "code",
   "execution_count": 5,
   "id": "6e2517c4-2a4f-4fce-8c10-77418d486d6c",
   "metadata": {},
   "outputs": [
    {
     "name": "stdout",
     "output_type": "stream",
     "text": [
      "Original array:\n",
      "[[ 0  1  2  3  4  5]\n",
      " [ 6  7  8  9 10 11]]\n",
      "Median of said array: 5.5\n"
     ]
    }
   ],
   "source": [
    "import numpy as np\n",
    "arr = np.array([[0, 1, 2, 3, 4, 5],\n",
    "                [6, 7, 8, 9, 10, 11]])\n",
    "\n",
    "print(\"Original array:\")\n",
    "print(arr)\n",
    "\n",
    "median_value = np.median(arr.flatten())\n",
    "\n",
    "print(\"Median of said array:\", median_value)"
   ]
  },
  {
   "cell_type": "code",
   "execution_count": 6,
   "id": "cf4578da-0511-49c9-a8ba-dea8e1ac2d34",
   "metadata": {},
   "outputs": [
    {
     "name": "stdout",
     "output_type": "stream",
     "text": [
      "Original array: [0 1 2 3 4]\n",
      "Weighted average of the said array: 2.6666666666666665\n"
     ]
    }
   ],
   "source": [
    "import numpy as np\n",
    "arr = np.array([0, 1, 2, 3, 4])\n",
    "weights = np.array([1, 2, 3, 4, 5])\n",
    "weighted_avg = np.average(arr, weights=weights)\n",
    "\n",
    "print(\"Original array:\", arr)\n",
    "print(\"Weighted average of the said array:\", weighted_avg)"
   ]
  },
  {
   "cell_type": "code",
   "execution_count": 7,
   "id": "9fcea144-6846-4e80-a357-9762b72b606e",
   "metadata": {},
   "outputs": [
    {
     "name": "stdout",
     "output_type": "stream",
     "text": [
      "Original array: [0 1 2 3 4 5]\n",
      "Mean: 2.5\n",
      "Std: 1.707825127659933\n",
      "Variance: 2.9166666666666665\n"
     ]
    }
   ],
   "source": [
    "import numpy as np\n",
    "arr = np.array([0, 1, 2, 3, 4, 5])\n",
    "print(\"Original array:\", arr)\n",
    "\n",
    "mean_val = np.mean(arr)\n",
    "std_val = np.std(arr)\n",
    "var_val = np.var(arr)\n",
    "\n",
    "print(\"Mean:\", mean_val)\n",
    "print(\"Std:\", std_val)\n",
    "print(\"Variance:\", var_val)"
   ]
  },
  {
   "cell_type": "code",
   "execution_count": 8,
   "id": "658190bf-7341-46d7-9635-86e6fad38b29",
   "metadata": {},
   "outputs": [
    {
     "name": "stdout",
     "output_type": "stream",
     "text": [
      "Original array1: [0 1 2]\n",
      "Original array2: [2 1 0]\n",
      "Covariance matrix of the said arrays:\n",
      "[[ 1. -1.]\n",
      " [-1.  1.]]\n"
     ]
    }
   ],
   "source": [
    "import numpy as np\n",
    "array1 = np.array([0, 1, 2])\n",
    "array2 = np.array([2, 1, 0])\n",
    "\n",
    "print(\"Original array1:\", array1)\n",
    "print(\"Original array2:\", array2)\n",
    "\n",
    "data = np.vstack((array1, array2))\n",
    "\n",
    "cov_matrix = np.cov(data)\n",
    "\n",
    "print(\"Covariance matrix of the said arrays:\")\n",
    "print(cov_matrix)"
   ]
  },
  {
   "cell_type": "code",
   "execution_count": 9,
   "id": "ba731242-3f29-49ac-8f97-8f08f8bd7d6a",
   "metadata": {},
   "outputs": [
    {
     "name": "stdout",
     "output_type": "stream",
     "text": [
      "Original array1: [0 1 3]\n",
      "Original array2: [2 4 5]\n",
      "Cross-correlation of the said arrays: [19]\n"
     ]
    }
   ],
   "source": [
    "import numpy as np\n",
    "\n",
    "array1 = np.array([0, 1, 3])\n",
    "array2 = np.array([2, 4, 5])\n",
    "\n",
    "print(\"Original array1:\", array1)\n",
    "print(\"Original array2:\", array2)\n",
    "\n",
    "cross_corr = np.correlate(array1, array2)\n",
    "\n",
    "print(\"Cross-correlation of the said arrays:\", cross_corr)"
   ]
  },
  {
   "cell_type": "code",
   "execution_count": 10,
   "id": "51bf094a-3288-4af1-a1e6-6f3f446d878a",
   "metadata": {},
   "outputs": [
    {
     "name": "stdout",
     "output_type": "stream",
     "text": [
      "Original array1: [0 1 3]\n",
      "Original array2: [2 4 5]\n",
      "Pearson product-moment correlation coefficients of the said arrays:\n",
      "[[1.         0.92857143]\n",
      " [0.92857143 1.        ]]\n"
     ]
    }
   ],
   "source": [
    "import numpy as np\n",
    "\n",
    "array1 = np.array([0, 1, 3])\n",
    "array2 = np.array([2, 4, 5])\n",
    "\n",
    "print(\"Original array1:\", array1)\n",
    "print(\"Original array2:\", array2)\n",
    "\n",
    "data = np.vstack((array1, array2))\n",
    "\n",
    "corr_matrix = np.corrcoef(data)\n",
    "\n",
    "print(\"Pearson product-moment correlation coefficients of the said arrays:\")\n",
    "print(corr_matrix)"
   ]
  },
  {
   "cell_type": "code",
   "execution_count": 11,
   "id": "54253158-6d21-4759-8f6e-d0cd4a090e7a",
   "metadata": {},
   "outputs": [
    {
     "name": "stdout",
     "output_type": "stream",
     "text": [
      "Test element-wise for finiteness (not infinity or not Not a Number): [False  True False]\n",
      "Test element-wise for positive or negative infinity: [ True False False]\n",
      "Test element-wise for NaN: [False False  True]\n",
      "Test element-wise for NaT (not a time): [ True False]\n",
      "Test element-wise for negative infinity: [1 0 0]\n",
      "Test element-wise for positive infinity: [0 0 1]\n"
     ]
    }
   ],
   "source": [
    "import numpy as np\n",
    "\n",
    "arr = np.array([np.inf, 5, np.nan])\n",
    "arr_datetime = np.array(['NaT', '2023-01-01'], dtype='datetime64')\n",
    "\n",
    "print(\"Test element-wise for finiteness (not infinity or not Not a Number):\", \n",
    "      np.isfinite(arr))\n",
    "\n",
    "print(\"Test element-wise for positive or negative infinity:\", \n",
    "      np.isinf(arr))\n",
    "\n",
    "print(\"Test element-wise for NaN:\", \n",
    "      np.isnan(arr))\n",
    "\n",
    "print(\"Test element-wise for NaT (not a time):\", \n",
    "      np.isnat(arr_datetime))\n",
    "\n",
    "inf_arr = np.array([-np.inf, 0, np.inf])\n",
    "\n",
    "print(\"Test element-wise for negative infinity:\", \n",
    "      (inf_arr == -np.inf).astype(int))\n",
    "\n",
    "print(\"Test element-wise for positive infinity:\", \n",
    "      (inf_arr == np.inf).astype(int))\n"
   ]
  },
  {
   "cell_type": "code",
   "execution_count": 12,
   "id": "305ea52d-f890-45f8-ae25-f9ee8fdde5ca",
   "metadata": {},
   "outputs": [
    {
     "name": "stdout",
     "output_type": "stream",
     "text": [
      "Original array: [0 1 6 1 4 1 2 2 7]\n",
      "Number of occurrences of each value in array: [1 3 2 0 1 0 1 1]\n"
     ]
    }
   ],
   "source": [
    "import numpy as np\n",
    "arr = np.array([0, 1, 6, 1, 4, 1, 2, 2, 7])\n",
    "\n",
    "print(\"Original array:\", arr)\n",
    "\n",
    "counts = np.bincount(arr)\n",
    "\n",
    "print(\"Number of occurrences of each value in array:\", counts)"
   ]
  },
  {
   "cell_type": "code",
   "execution_count": 13,
   "id": "367e44e3-733a-4415-b7cc-5e6403fe2ad7",
   "metadata": {},
   "outputs": [
    {
     "name": "stdout",
     "output_type": "stream",
     "text": [
      "nums: [0.5 0.7 1.  1.2 1.3 2.1]\n",
      "bins: [0 1 2 3]\n",
      "Result: (array([2, 3, 1], dtype=int64), array([0, 1, 2, 3]))\n"
     ]
    }
   ],
   "source": [
    "import numpy as np\n",
    "\n",
    "nums = np.array([0.5, 0.7, 1.0, 1.2, 1.3, 2.1])\n",
    "bins = np.array([0, 1, 2, 3])\n",
    "\n",
    "print(\"nums:\", nums)\n",
    "print(\"bins:\", bins)\n",
    "\n",
    "hist, bin_edges = np.histogram(nums, bins=bins)\n",
    "\n",
    "print(\"Result:\", (hist, bin_edges))"
   ]
  },
  {
   "cell_type": "code",
   "execution_count": null,
   "id": "2a361951-4d93-4042-820d-13c38901ccca",
   "metadata": {},
   "outputs": [],
   "source": []
  }
 ],
 "metadata": {
  "kernelspec": {
   "display_name": "Python [conda env:base] *",
   "language": "python",
   "name": "conda-base-py"
  },
  "language_info": {
   "codemirror_mode": {
    "name": "ipython",
    "version": 3
   },
   "file_extension": ".py",
   "mimetype": "text/x-python",
   "name": "python",
   "nbconvert_exporter": "python",
   "pygments_lexer": "ipython3",
   "version": "3.12.7"
  }
 },
 "nbformat": 4,
 "nbformat_minor": 5
}
